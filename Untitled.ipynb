{
 "cells": [
  {
   "cell_type": "code",
   "execution_count": 29,
   "id": "64376444-aff7-4e7f-b6e2-a18fcb2a6880",
   "metadata": {},
   "outputs": [],
   "source": [
    "# 라이브러리\n",
    "import os\n",
    "import pandas as pd\n",
    "import numpy as np\n",
    "import matplotlib.pyplot as plt\n",
    "from matplotlib import font_manager, rc\n",
    "import matplotlib\n",
    "font_name = font_manager.FontProperties(fname=\"c:/Windows/Fonts/malgun.ttf\").get_name()\n",
    "rc('font', family=font_name)\n",
    "matplotlib.rcParams['axes.unicode_minus'] = False\n",
    "\n",
    "import warnings\n",
    "warnings.filterwarnings(action='ignore') \n",
    "\n",
    "pd.options.display.float_format = '{:.5f}'.format # 지수표현을 소숫점 표현으로"
   ]
  },
  {
   "cell_type": "code",
   "execution_count": 30,
   "id": "4757b56c-2d1d-48b8-9c32-5a6b63893e16",
   "metadata": {},
   "outputs": [],
   "source": [
    "\n",
    "data = pd.read_csv('./최종.csv') # 지하철 혼잡도 정보 2020년 7월 8일 데이터??\n"
   ]
  },
  {
   "cell_type": "code",
   "execution_count": 31,
   "id": "e10aaa39-d529-4d5d-b5b4-2ef4e0325b4a",
   "metadata": {},
   "outputs": [
    {
     "data": {
      "text/html": [
       "<div>\n",
       "<style scoped>\n",
       "    .dataframe tbody tr th:only-of-type {\n",
       "        vertical-align: middle;\n",
       "    }\n",
       "\n",
       "    .dataframe tbody tr th {\n",
       "        vertical-align: top;\n",
       "    }\n",
       "\n",
       "    .dataframe thead th {\n",
       "        text-align: right;\n",
       "    }\n",
       "</style>\n",
       "<table border=\"1\" class=\"dataframe\">\n",
       "  <thead>\n",
       "    <tr style=\"text-align: right;\">\n",
       "      <th></th>\n",
       "      <th>역명</th>\n",
       "      <th>호선</th>\n",
       "      <th>측정일시</th>\n",
       "      <th>초미세먼지(내부)</th>\n",
       "      <th>운행횟수</th>\n",
       "      <th>자치구</th>\n",
       "      <th>초미세먼지(외부)</th>\n",
       "    </tr>\n",
       "  </thead>\n",
       "  <tbody>\n",
       "    <tr>\n",
       "      <th>0</th>\n",
       "      <td>동대문(1)</td>\n",
       "      <td>1호선</td>\n",
       "      <td>2021042700</td>\n",
       "      <td>65.30000</td>\n",
       "      <td>86.00000</td>\n",
       "      <td>종로구</td>\n",
       "      <td>17.00000</td>\n",
       "    </tr>\n",
       "    <tr>\n",
       "      <th>1</th>\n",
       "      <td>종각(1)</td>\n",
       "      <td>1호선</td>\n",
       "      <td>2021042700</td>\n",
       "      <td>64.30000</td>\n",
       "      <td>86.00000</td>\n",
       "      <td>종로구</td>\n",
       "      <td>17.00000</td>\n",
       "    </tr>\n",
       "    <tr>\n",
       "      <th>2</th>\n",
       "      <td>종로3가(1)</td>\n",
       "      <td>1호선</td>\n",
       "      <td>2021042700</td>\n",
       "      <td>50.50000</td>\n",
       "      <td>86.00000</td>\n",
       "      <td>종로구</td>\n",
       "      <td>17.00000</td>\n",
       "    </tr>\n",
       "    <tr>\n",
       "      <th>3</th>\n",
       "      <td>종로5가(1)</td>\n",
       "      <td>1호선</td>\n",
       "      <td>2021042700</td>\n",
       "      <td>95.60000</td>\n",
       "      <td>86.00000</td>\n",
       "      <td>종로구</td>\n",
       "      <td>17.00000</td>\n",
       "    </tr>\n",
       "    <tr>\n",
       "      <th>4</th>\n",
       "      <td>경복궁(3)</td>\n",
       "      <td>3호선</td>\n",
       "      <td>2021042700</td>\n",
       "      <td>22.70000</td>\n",
       "      <td>272.00000</td>\n",
       "      <td>종로구</td>\n",
       "      <td>17.00000</td>\n",
       "    </tr>\n",
       "    <tr>\n",
       "      <th>...</th>\n",
       "      <td>...</td>\n",
       "      <td>...</td>\n",
       "      <td>...</td>\n",
       "      <td>...</td>\n",
       "      <td>...</td>\n",
       "      <td>...</td>\n",
       "      <td>...</td>\n",
       "    </tr>\n",
       "    <tr>\n",
       "      <th>5419</th>\n",
       "      <td>가산디지털단지(7)</td>\n",
       "      <td>7호선</td>\n",
       "      <td>2021042719</td>\n",
       "      <td>33.80000</td>\n",
       "      <td>420.00000</td>\n",
       "      <td>금천구</td>\n",
       "      <td>15.00000</td>\n",
       "    </tr>\n",
       "    <tr>\n",
       "      <th>5420</th>\n",
       "      <td>가산디지털단지(7)</td>\n",
       "      <td>7호선</td>\n",
       "      <td>2021042720</td>\n",
       "      <td>29.20000</td>\n",
       "      <td>420.00000</td>\n",
       "      <td>금천구</td>\n",
       "      <td>17.00000</td>\n",
       "    </tr>\n",
       "    <tr>\n",
       "      <th>5421</th>\n",
       "      <td>가산디지털단지(7)</td>\n",
       "      <td>7호선</td>\n",
       "      <td>2021042721</td>\n",
       "      <td>18.80000</td>\n",
       "      <td>420.00000</td>\n",
       "      <td>금천구</td>\n",
       "      <td>12.00000</td>\n",
       "    </tr>\n",
       "    <tr>\n",
       "      <th>5422</th>\n",
       "      <td>가산디지털단지(7)</td>\n",
       "      <td>7호선</td>\n",
       "      <td>2021042722</td>\n",
       "      <td>18.40000</td>\n",
       "      <td>420.00000</td>\n",
       "      <td>금천구</td>\n",
       "      <td>11.00000</td>\n",
       "    </tr>\n",
       "    <tr>\n",
       "      <th>5423</th>\n",
       "      <td>가산디지털단지(7)</td>\n",
       "      <td>7호선</td>\n",
       "      <td>2021042723</td>\n",
       "      <td>24.80000</td>\n",
       "      <td>420.00000</td>\n",
       "      <td>금천구</td>\n",
       "      <td>11.00000</td>\n",
       "    </tr>\n",
       "  </tbody>\n",
       "</table>\n",
       "<p>5424 rows × 7 columns</p>\n",
       "</div>"
      ],
      "text/plain": [
       "              역명   호선        측정일시  초미세먼지(내부)      운행횟수  자치구  초미세먼지(외부)\n",
       "0         동대문(1)  1호선  2021042700   65.30000  86.00000  종로구   17.00000\n",
       "1          종각(1)  1호선  2021042700   64.30000  86.00000  종로구   17.00000\n",
       "2        종로3가(1)  1호선  2021042700   50.50000  86.00000  종로구   17.00000\n",
       "3        종로5가(1)  1호선  2021042700   95.60000  86.00000  종로구   17.00000\n",
       "4         경복궁(3)  3호선  2021042700   22.70000 272.00000  종로구   17.00000\n",
       "...          ...  ...         ...        ...       ...  ...        ...\n",
       "5419  가산디지털단지(7)  7호선  2021042719   33.80000 420.00000  금천구   15.00000\n",
       "5420  가산디지털단지(7)  7호선  2021042720   29.20000 420.00000  금천구   17.00000\n",
       "5421  가산디지털단지(7)  7호선  2021042721   18.80000 420.00000  금천구   12.00000\n",
       "5422  가산디지털단지(7)  7호선  2021042722   18.40000 420.00000  금천구   11.00000\n",
       "5423  가산디지털단지(7)  7호선  2021042723   24.80000 420.00000  금천구   11.00000\n",
       "\n",
       "[5424 rows x 7 columns]"
      ]
     },
     "execution_count": 31,
     "metadata": {},
     "output_type": "execute_result"
    }
   ],
   "source": [
    "data"
   ]
  },
  {
   "cell_type": "code",
   "execution_count": 7,
   "id": "536a4576-c560-4b1d-acad-52a583d0a216",
   "metadata": {},
   "outputs": [],
   "source": [
    "def trim1(A):\n",
    "    if A[-2:] == '호선':\n",
    "        A = A[0:-2]\n",
    "    return A"
   ]
  },
  {
   "cell_type": "code",
   "execution_count": 8,
   "id": "9e5f5692-fe75-4a25-bd66-828c6f73d7f9",
   "metadata": {},
   "outputs": [],
   "source": [
    "data['호선'] = data['호선'].apply(trim1)"
   ]
  },
  {
   "cell_type": "code",
   "execution_count": 10,
   "id": "5e1ad2b8-c632-4939-a31d-18c68a366281",
   "metadata": {},
   "outputs": [
    {
     "data": {
      "text/plain": [
       "0       1\n",
       "1       1\n",
       "2       1\n",
       "3       1\n",
       "4       3\n",
       "       ..\n",
       "5419    7\n",
       "5420    7\n",
       "5421    7\n",
       "5422    7\n",
       "5423    7\n",
       "Name: 호선, Length: 5424, dtype: object"
      ]
     },
     "execution_count": 10,
     "metadata": {},
     "output_type": "execute_result"
    }
   ],
   "source": [
    "data['호선']"
   ]
  },
  {
   "cell_type": "code",
   "execution_count": 14,
   "id": "fc9be495-68da-434b-a225-0ff8d8eb9788",
   "metadata": {},
   "outputs": [],
   "source": [
    "data['호선'] = data['호선'].astype(int)"
   ]
  },
  {
   "cell_type": "code",
   "execution_count": 17,
   "id": "1f561221-41aa-4f32-9a0c-4ac7386c06a1",
   "metadata": {},
   "outputs": [],
   "source": [
    "dummy = pd.get_dummies(data['호선'], prefix='호선')"
   ]
  },
  {
   "cell_type": "code",
   "execution_count": 22,
   "id": "a6edbdfe-2105-4f38-b086-402cffc7a0ec",
   "metadata": {},
   "outputs": [],
   "source": [
    "dummy['호선'] = data['호선']"
   ]
  },
  {
   "cell_type": "code",
   "execution_count": 26,
   "id": "42149ee6-c771-407a-98cd-3681231802ee",
   "metadata": {},
   "outputs": [
    {
     "data": {
      "text/plain": [
       "호선          -0.18089\n",
       "측정일시         0.18978\n",
       "초미세먼지(내부)    1.00000\n",
       "운행횟수        -0.06302\n",
       "초미세먼지(외부)   -0.00532\n",
       "호선_1         0.16067\n",
       "호선_2         0.10399\n",
       "호선_3        -0.05486\n",
       "호선_4         0.38001\n",
       "호선_5        -0.11366\n",
       "호선_6        -0.06381\n",
       "호선_7        -0.09981\n",
       "호선_8         0.00126\n",
       "Name: 초미세먼지(내부), dtype: float64"
      ]
     },
     "execution_count": 26,
     "metadata": {},
     "output_type": "execute_result"
    }
   ],
   "source": [
    "pd.merge(data, dummy).corr()['초미세먼지(내부)']"
   ]
  },
  {
   "cell_type": "code",
   "execution_count": 15,
   "id": "b88b436f-a1f4-4f0d-bd68-21559d68d760",
   "metadata": {},
   "outputs": [
    {
     "data": {
      "text/html": [
       "<div>\n",
       "<style scoped>\n",
       "    .dataframe tbody tr th:only-of-type {\n",
       "        vertical-align: middle;\n",
       "    }\n",
       "\n",
       "    .dataframe tbody tr th {\n",
       "        vertical-align: top;\n",
       "    }\n",
       "\n",
       "    .dataframe thead th {\n",
       "        text-align: right;\n",
       "    }\n",
       "</style>\n",
       "<table border=\"1\" class=\"dataframe\">\n",
       "  <thead>\n",
       "    <tr style=\"text-align: right;\">\n",
       "      <th></th>\n",
       "      <th>호선</th>\n",
       "      <th>측정일시</th>\n",
       "      <th>초미세먼지(내부)</th>\n",
       "      <th>운행횟수</th>\n",
       "      <th>초미세먼지(외부)</th>\n",
       "    </tr>\n",
       "  </thead>\n",
       "  <tbody>\n",
       "    <tr>\n",
       "      <th>호선</th>\n",
       "      <td>1.00000</td>\n",
       "      <td>0.00000</td>\n",
       "      <td>-0.22119</td>\n",
       "      <td>0.06795</td>\n",
       "      <td>0.05009</td>\n",
       "    </tr>\n",
       "    <tr>\n",
       "      <th>측정일시</th>\n",
       "      <td>0.00000</td>\n",
       "      <td>1.00000</td>\n",
       "      <td>0.18721</td>\n",
       "      <td>0.00000</td>\n",
       "      <td>-0.35378</td>\n",
       "    </tr>\n",
       "    <tr>\n",
       "      <th>초미세먼지(내부)</th>\n",
       "      <td>-0.22119</td>\n",
       "      <td>0.18721</td>\n",
       "      <td>1.00000</td>\n",
       "      <td>-0.18030</td>\n",
       "      <td>-0.04781</td>\n",
       "    </tr>\n",
       "    <tr>\n",
       "      <th>운행횟수</th>\n",
       "      <td>0.06795</td>\n",
       "      <td>0.00000</td>\n",
       "      <td>-0.18030</td>\n",
       "      <td>1.00000</td>\n",
       "      <td>0.03639</td>\n",
       "    </tr>\n",
       "    <tr>\n",
       "      <th>초미세먼지(외부)</th>\n",
       "      <td>0.05009</td>\n",
       "      <td>-0.35378</td>\n",
       "      <td>-0.04781</td>\n",
       "      <td>0.03639</td>\n",
       "      <td>1.00000</td>\n",
       "    </tr>\n",
       "  </tbody>\n",
       "</table>\n",
       "</div>"
      ],
      "text/plain": [
       "                호선     측정일시  초미세먼지(내부)     운행횟수  초미세먼지(외부)\n",
       "호선         1.00000  0.00000   -0.22119  0.06795    0.05009\n",
       "측정일시       0.00000  1.00000    0.18721  0.00000   -0.35378\n",
       "초미세먼지(내부) -0.22119  0.18721    1.00000 -0.18030   -0.04781\n",
       "운행횟수       0.06795  0.00000   -0.18030  1.00000    0.03639\n",
       "초미세먼지(외부)  0.05009 -0.35378   -0.04781  0.03639    1.00000"
      ]
     },
     "execution_count": 15,
     "metadata": {},
     "output_type": "execute_result"
    }
   ],
   "source": [
    "data.corr()"
   ]
  },
  {
   "cell_type": "code",
   "execution_count": 27,
   "id": "a8b586ce-4d82-4b2b-aea1-d3d308a264fd",
   "metadata": {},
   "outputs": [],
   "source": [
    "data2 = pd.read_csv('../dataset/new_data2.csv')"
   ]
  },
  {
   "cell_type": "code",
   "execution_count": 35,
   "id": "0bd0607e-1889-454f-9b1b-c0308e3fd0fa",
   "metadata": {},
   "outputs": [
    {
     "data": {
      "text/html": [
       "<div>\n",
       "<style scoped>\n",
       "    .dataframe tbody tr th:only-of-type {\n",
       "        vertical-align: middle;\n",
       "    }\n",
       "\n",
       "    .dataframe tbody tr th {\n",
       "        vertical-align: top;\n",
       "    }\n",
       "\n",
       "    .dataframe thead th {\n",
       "        text-align: right;\n",
       "    }\n",
       "</style>\n",
       "<table border=\"1\" class=\"dataframe\">\n",
       "  <thead>\n",
       "    <tr style=\"text-align: right;\">\n",
       "      <th></th>\n",
       "      <th>호선</th>\n",
       "      <th>역명</th>\n",
       "      <th>미세먼지</th>\n",
       "      <th>이산화탄소</th>\n",
       "      <th>포름알데히드</th>\n",
       "      <th>일산화탄소</th>\n",
       "    </tr>\n",
       "  </thead>\n",
       "  <tbody>\n",
       "    <tr>\n",
       "      <th>0</th>\n",
       "      <td>1호선</td>\n",
       "      <td>서울역</td>\n",
       "      <td>70.50000</td>\n",
       "      <td>606</td>\n",
       "      <td>4.00000</td>\n",
       "      <td>0.80000</td>\n",
       "    </tr>\n",
       "    <tr>\n",
       "      <th>1</th>\n",
       "      <td>1호선</td>\n",
       "      <td>시청</td>\n",
       "      <td>54.70000</td>\n",
       "      <td>581</td>\n",
       "      <td>4.40000</td>\n",
       "      <td>0.70000</td>\n",
       "    </tr>\n",
       "    <tr>\n",
       "      <th>2</th>\n",
       "      <td>1호선</td>\n",
       "      <td>종각</td>\n",
       "      <td>82.90000</td>\n",
       "      <td>471</td>\n",
       "      <td>11.50000</td>\n",
       "      <td>0.70000</td>\n",
       "    </tr>\n",
       "    <tr>\n",
       "      <th>3</th>\n",
       "      <td>1호선</td>\n",
       "      <td>종로3가</td>\n",
       "      <td>70.40000</td>\n",
       "      <td>481</td>\n",
       "      <td>11.00000</td>\n",
       "      <td>1.00000</td>\n",
       "    </tr>\n",
       "    <tr>\n",
       "      <th>4</th>\n",
       "      <td>1호선</td>\n",
       "      <td>종로5가</td>\n",
       "      <td>70.20000</td>\n",
       "      <td>597</td>\n",
       "      <td>5.70000</td>\n",
       "      <td>0.80000</td>\n",
       "    </tr>\n",
       "    <tr>\n",
       "      <th>...</th>\n",
       "      <td>...</td>\n",
       "      <td>...</td>\n",
       "      <td>...</td>\n",
       "      <td>...</td>\n",
       "      <td>...</td>\n",
       "      <td>...</td>\n",
       "    </tr>\n",
       "    <tr>\n",
       "      <th>249</th>\n",
       "      <td>8호선</td>\n",
       "      <td>남한산성입구</td>\n",
       "      <td>43.20000</td>\n",
       "      <td>504</td>\n",
       "      <td>5.90000</td>\n",
       "      <td>0.50000</td>\n",
       "    </tr>\n",
       "    <tr>\n",
       "      <th>250</th>\n",
       "      <td>8호선</td>\n",
       "      <td>단대오거리</td>\n",
       "      <td>47.00000</td>\n",
       "      <td>518</td>\n",
       "      <td>6.90000</td>\n",
       "      <td>0.50000</td>\n",
       "    </tr>\n",
       "    <tr>\n",
       "      <th>251</th>\n",
       "      <td>8호선</td>\n",
       "      <td>신흥</td>\n",
       "      <td>59.60000</td>\n",
       "      <td>511</td>\n",
       "      <td>31.30000</td>\n",
       "      <td>0.50000</td>\n",
       "    </tr>\n",
       "    <tr>\n",
       "      <th>252</th>\n",
       "      <td>8호선</td>\n",
       "      <td>수진</td>\n",
       "      <td>71.60000</td>\n",
       "      <td>490</td>\n",
       "      <td>12.90000</td>\n",
       "      <td>0.60000</td>\n",
       "    </tr>\n",
       "    <tr>\n",
       "      <th>253</th>\n",
       "      <td>8호선</td>\n",
       "      <td>모란</td>\n",
       "      <td>97.00000</td>\n",
       "      <td>483</td>\n",
       "      <td>5.40000</td>\n",
       "      <td>0.50000</td>\n",
       "    </tr>\n",
       "  </tbody>\n",
       "</table>\n",
       "<p>254 rows × 6 columns</p>\n",
       "</div>"
      ],
      "text/plain": [
       "      호선      역명     미세먼지  이산화탄소   포름알데히드   일산화탄소\n",
       "0    1호선     서울역 70.50000    606  4.00000 0.80000\n",
       "1    1호선      시청 54.70000    581  4.40000 0.70000\n",
       "2    1호선      종각 82.90000    471 11.50000 0.70000\n",
       "3    1호선    종로3가 70.40000    481 11.00000 1.00000\n",
       "4    1호선    종로5가 70.20000    597  5.70000 0.80000\n",
       "..   ...     ...      ...    ...      ...     ...\n",
       "249  8호선  남한산성입구 43.20000    504  5.90000 0.50000\n",
       "250  8호선   단대오거리 47.00000    518  6.90000 0.50000\n",
       "251  8호선      신흥 59.60000    511 31.30000 0.50000\n",
       "252  8호선      수진 71.60000    490 12.90000 0.60000\n",
       "253  8호선      모란 97.00000    483  5.40000 0.50000\n",
       "\n",
       "[254 rows x 6 columns]"
      ]
     },
     "execution_count": 35,
     "metadata": {},
     "output_type": "execute_result"
    }
   ],
   "source": [
    "data2.columns = ['호선', '역명', '미세먼지', '이산화탄소', '포름알데히드', '일산화탄소']\n",
    "data2"
   ]
  },
  {
   "cell_type": "code",
   "execution_count": 46,
   "id": "aeb61c8b-d695-4046-9197-2eb8fbc9fa7b",
   "metadata": {},
   "outputs": [
    {
     "data": {
      "text/html": [
       "<div>\n",
       "<style scoped>\n",
       "    .dataframe tbody tr th:only-of-type {\n",
       "        vertical-align: middle;\n",
       "    }\n",
       "\n",
       "    .dataframe tbody tr th {\n",
       "        vertical-align: top;\n",
       "    }\n",
       "\n",
       "    .dataframe thead th {\n",
       "        text-align: right;\n",
       "    }\n",
       "</style>\n",
       "<table border=\"1\" class=\"dataframe\">\n",
       "  <thead>\n",
       "    <tr style=\"text-align: right;\">\n",
       "      <th></th>\n",
       "      <th>호선</th>\n",
       "      <th>운행횟수</th>\n",
       "    </tr>\n",
       "  </thead>\n",
       "  <tbody>\n",
       "    <tr>\n",
       "      <th>0</th>\n",
       "      <td>1호선</td>\n",
       "      <td>86.00000</td>\n",
       "    </tr>\n",
       "    <tr>\n",
       "      <th>4</th>\n",
       "      <td>3호선</td>\n",
       "      <td>272.00000</td>\n",
       "    </tr>\n",
       "    <tr>\n",
       "      <th>7</th>\n",
       "      <td>4호선</td>\n",
       "      <td>307.00000</td>\n",
       "    </tr>\n",
       "    <tr>\n",
       "      <th>9</th>\n",
       "      <td>5호선</td>\n",
       "      <td>438.00000</td>\n",
       "    </tr>\n",
       "    <tr>\n",
       "      <th>12</th>\n",
       "      <td>6호선</td>\n",
       "      <td>330.00000</td>\n",
       "    </tr>\n",
       "    <tr>\n",
       "      <th>337</th>\n",
       "      <td>2호선</td>\n",
       "      <td>524.00000</td>\n",
       "    </tr>\n",
       "    <tr>\n",
       "      <th>843</th>\n",
       "      <td>2호선</td>\n",
       "      <td>218.00000</td>\n",
       "    </tr>\n",
       "    <tr>\n",
       "      <th>997</th>\n",
       "      <td>7호선</td>\n",
       "      <td>420.00000</td>\n",
       "    </tr>\n",
       "    <tr>\n",
       "      <th>1752</th>\n",
       "      <td>2호선</td>\n",
       "      <td>212.00000</td>\n",
       "    </tr>\n",
       "    <tr>\n",
       "      <th>1753</th>\n",
       "      <td>2호선</td>\n",
       "      <td>736.00000</td>\n",
       "    </tr>\n",
       "    <tr>\n",
       "      <th>3012</th>\n",
       "      <td>8호선</td>\n",
       "      <td>282.00000</td>\n",
       "    </tr>\n",
       "  </tbody>\n",
       "</table>\n",
       "</div>"
      ],
      "text/plain": [
       "       호선      운행횟수\n",
       "0     1호선  86.00000\n",
       "4     3호선 272.00000\n",
       "7     4호선 307.00000\n",
       "9     5호선 438.00000\n",
       "12    6호선 330.00000\n",
       "337   2호선 524.00000\n",
       "843   2호선 218.00000\n",
       "997   7호선 420.00000\n",
       "1752  2호선 212.00000\n",
       "1753  2호선 736.00000\n",
       "3012  8호선 282.00000"
      ]
     },
     "execution_count": 46,
     "metadata": {},
     "output_type": "execute_result"
    }
   ],
   "source": [
    "temp = data[['호선','운행횟수']].drop_duplicates()\n",
    "temp"
   ]
  },
  {
   "cell_type": "code",
   "execution_count": 48,
   "id": "6777bcac-e905-4d2e-952c-b0717301b09c",
   "metadata": {},
   "outputs": [
    {
     "data": {
      "text/plain": [
       "운행횟수   422.50000\n",
       "dtype: float64"
      ]
     },
     "execution_count": 48,
     "metadata": {},
     "output_type": "execute_result"
    }
   ],
   "source": [
    "temp[temp['호선'] == '2호선'].mean()"
   ]
  },
  {
   "cell_type": "code",
   "execution_count": 49,
   "id": "05f545cc-26ca-4519-b7a1-341dcc4363c7",
   "metadata": {},
   "outputs": [],
   "source": [
    "temp.loc[temp['호선'] == '2호선', '운행횟수'] = 422.5"
   ]
  },
  {
   "cell_type": "code",
   "execution_count": 52,
   "id": "a6b30871-e22c-4713-85ce-91af228fb3a0",
   "metadata": {},
   "outputs": [],
   "source": [
    "temp = temp[['호선','운행횟수']].drop_duplicates()"
   ]
  },
  {
   "cell_type": "code",
   "execution_count": 53,
   "id": "3a7a3aa7-6542-4354-b9de-b827e45f978c",
   "metadata": {},
   "outputs": [
    {
     "data": {
      "text/html": [
       "<div>\n",
       "<style scoped>\n",
       "    .dataframe tbody tr th:only-of-type {\n",
       "        vertical-align: middle;\n",
       "    }\n",
       "\n",
       "    .dataframe tbody tr th {\n",
       "        vertical-align: top;\n",
       "    }\n",
       "\n",
       "    .dataframe thead th {\n",
       "        text-align: right;\n",
       "    }\n",
       "</style>\n",
       "<table border=\"1\" class=\"dataframe\">\n",
       "  <thead>\n",
       "    <tr style=\"text-align: right;\">\n",
       "      <th></th>\n",
       "      <th>호선</th>\n",
       "      <th>운행횟수</th>\n",
       "    </tr>\n",
       "  </thead>\n",
       "  <tbody>\n",
       "    <tr>\n",
       "      <th>0</th>\n",
       "      <td>1호선</td>\n",
       "      <td>86.00000</td>\n",
       "    </tr>\n",
       "    <tr>\n",
       "      <th>4</th>\n",
       "      <td>3호선</td>\n",
       "      <td>272.00000</td>\n",
       "    </tr>\n",
       "    <tr>\n",
       "      <th>7</th>\n",
       "      <td>4호선</td>\n",
       "      <td>307.00000</td>\n",
       "    </tr>\n",
       "    <tr>\n",
       "      <th>9</th>\n",
       "      <td>5호선</td>\n",
       "      <td>438.00000</td>\n",
       "    </tr>\n",
       "    <tr>\n",
       "      <th>12</th>\n",
       "      <td>6호선</td>\n",
       "      <td>330.00000</td>\n",
       "    </tr>\n",
       "    <tr>\n",
       "      <th>337</th>\n",
       "      <td>2호선</td>\n",
       "      <td>422.50000</td>\n",
       "    </tr>\n",
       "    <tr>\n",
       "      <th>997</th>\n",
       "      <td>7호선</td>\n",
       "      <td>420.00000</td>\n",
       "    </tr>\n",
       "    <tr>\n",
       "      <th>3012</th>\n",
       "      <td>8호선</td>\n",
       "      <td>282.00000</td>\n",
       "    </tr>\n",
       "  </tbody>\n",
       "</table>\n",
       "</div>"
      ],
      "text/plain": [
       "       호선      운행횟수\n",
       "0     1호선  86.00000\n",
       "4     3호선 272.00000\n",
       "7     4호선 307.00000\n",
       "9     5호선 438.00000\n",
       "12    6호선 330.00000\n",
       "337   2호선 422.50000\n",
       "997   7호선 420.00000\n",
       "3012  8호선 282.00000"
      ]
     },
     "execution_count": 53,
     "metadata": {},
     "output_type": "execute_result"
    }
   ],
   "source": [
    "temp"
   ]
  },
  {
   "cell_type": "code",
   "execution_count": 58,
   "id": "d40f30c1-274e-4724-b515-edcedad7765b",
   "metadata": {},
   "outputs": [
    {
     "data": {
      "text/html": [
       "<div>\n",
       "<style scoped>\n",
       "    .dataframe tbody tr th:only-of-type {\n",
       "        vertical-align: middle;\n",
       "    }\n",
       "\n",
       "    .dataframe tbody tr th {\n",
       "        vertical-align: top;\n",
       "    }\n",
       "\n",
       "    .dataframe thead th {\n",
       "        text-align: right;\n",
       "    }\n",
       "</style>\n",
       "<table border=\"1\" class=\"dataframe\">\n",
       "  <thead>\n",
       "    <tr style=\"text-align: right;\">\n",
       "      <th></th>\n",
       "      <th>호선</th>\n",
       "      <th>역명</th>\n",
       "      <th>미세먼지</th>\n",
       "      <th>이산화탄소</th>\n",
       "      <th>포름알데히드</th>\n",
       "      <th>일산화탄소</th>\n",
       "      <th>운행횟수</th>\n",
       "    </tr>\n",
       "  </thead>\n",
       "  <tbody>\n",
       "    <tr>\n",
       "      <th>0</th>\n",
       "      <td>1호선</td>\n",
       "      <td>서울역</td>\n",
       "      <td>70.50000</td>\n",
       "      <td>606</td>\n",
       "      <td>4.00000</td>\n",
       "      <td>0.80000</td>\n",
       "      <td>86.00000</td>\n",
       "    </tr>\n",
       "    <tr>\n",
       "      <th>1</th>\n",
       "      <td>1호선</td>\n",
       "      <td>시청</td>\n",
       "      <td>54.70000</td>\n",
       "      <td>581</td>\n",
       "      <td>4.40000</td>\n",
       "      <td>0.70000</td>\n",
       "      <td>86.00000</td>\n",
       "    </tr>\n",
       "    <tr>\n",
       "      <th>2</th>\n",
       "      <td>1호선</td>\n",
       "      <td>종각</td>\n",
       "      <td>82.90000</td>\n",
       "      <td>471</td>\n",
       "      <td>11.50000</td>\n",
       "      <td>0.70000</td>\n",
       "      <td>86.00000</td>\n",
       "    </tr>\n",
       "    <tr>\n",
       "      <th>3</th>\n",
       "      <td>1호선</td>\n",
       "      <td>종로3가</td>\n",
       "      <td>70.40000</td>\n",
       "      <td>481</td>\n",
       "      <td>11.00000</td>\n",
       "      <td>1.00000</td>\n",
       "      <td>86.00000</td>\n",
       "    </tr>\n",
       "    <tr>\n",
       "      <th>4</th>\n",
       "      <td>1호선</td>\n",
       "      <td>종로5가</td>\n",
       "      <td>70.20000</td>\n",
       "      <td>597</td>\n",
       "      <td>5.70000</td>\n",
       "      <td>0.80000</td>\n",
       "      <td>86.00000</td>\n",
       "    </tr>\n",
       "    <tr>\n",
       "      <th>...</th>\n",
       "      <td>...</td>\n",
       "      <td>...</td>\n",
       "      <td>...</td>\n",
       "      <td>...</td>\n",
       "      <td>...</td>\n",
       "      <td>...</td>\n",
       "      <td>...</td>\n",
       "    </tr>\n",
       "    <tr>\n",
       "      <th>249</th>\n",
       "      <td>8호선</td>\n",
       "      <td>남한산성입구</td>\n",
       "      <td>43.20000</td>\n",
       "      <td>504</td>\n",
       "      <td>5.90000</td>\n",
       "      <td>0.50000</td>\n",
       "      <td>282.00000</td>\n",
       "    </tr>\n",
       "    <tr>\n",
       "      <th>250</th>\n",
       "      <td>8호선</td>\n",
       "      <td>단대오거리</td>\n",
       "      <td>47.00000</td>\n",
       "      <td>518</td>\n",
       "      <td>6.90000</td>\n",
       "      <td>0.50000</td>\n",
       "      <td>282.00000</td>\n",
       "    </tr>\n",
       "    <tr>\n",
       "      <th>251</th>\n",
       "      <td>8호선</td>\n",
       "      <td>신흥</td>\n",
       "      <td>59.60000</td>\n",
       "      <td>511</td>\n",
       "      <td>31.30000</td>\n",
       "      <td>0.50000</td>\n",
       "      <td>282.00000</td>\n",
       "    </tr>\n",
       "    <tr>\n",
       "      <th>252</th>\n",
       "      <td>8호선</td>\n",
       "      <td>수진</td>\n",
       "      <td>71.60000</td>\n",
       "      <td>490</td>\n",
       "      <td>12.90000</td>\n",
       "      <td>0.60000</td>\n",
       "      <td>282.00000</td>\n",
       "    </tr>\n",
       "    <tr>\n",
       "      <th>253</th>\n",
       "      <td>8호선</td>\n",
       "      <td>모란</td>\n",
       "      <td>97.00000</td>\n",
       "      <td>483</td>\n",
       "      <td>5.40000</td>\n",
       "      <td>0.50000</td>\n",
       "      <td>282.00000</td>\n",
       "    </tr>\n",
       "  </tbody>\n",
       "</table>\n",
       "<p>254 rows × 7 columns</p>\n",
       "</div>"
      ],
      "text/plain": [
       "      호선      역명     미세먼지  이산화탄소   포름알데히드   일산화탄소      운행횟수\n",
       "0    1호선     서울역 70.50000    606  4.00000 0.80000  86.00000\n",
       "1    1호선      시청 54.70000    581  4.40000 0.70000  86.00000\n",
       "2    1호선      종각 82.90000    471 11.50000 0.70000  86.00000\n",
       "3    1호선    종로3가 70.40000    481 11.00000 1.00000  86.00000\n",
       "4    1호선    종로5가 70.20000    597  5.70000 0.80000  86.00000\n",
       "..   ...     ...      ...    ...      ...     ...       ...\n",
       "249  8호선  남한산성입구 43.20000    504  5.90000 0.50000 282.00000\n",
       "250  8호선   단대오거리 47.00000    518  6.90000 0.50000 282.00000\n",
       "251  8호선      신흥 59.60000    511 31.30000 0.50000 282.00000\n",
       "252  8호선      수진 71.60000    490 12.90000 0.60000 282.00000\n",
       "253  8호선      모란 97.00000    483  5.40000 0.50000 282.00000\n",
       "\n",
       "[254 rows x 7 columns]"
      ]
     },
     "execution_count": 58,
     "metadata": {},
     "output_type": "execute_result"
    }
   ],
   "source": [
    "pd.merge(data2, temp)"
   ]
  },
  {
   "cell_type": "code",
   "execution_count": 59,
   "id": "c4060d71-01eb-4f56-a955-73d9b5aa0739",
   "metadata": {},
   "outputs": [
    {
     "data": {
      "text/plain": [
       "미세먼지      0.08120\n",
       "이산화탄소    -0.01642\n",
       "포름알데히드    0.06565\n",
       "일산화탄소     0.21198\n",
       "운행횟수      1.00000\n",
       "Name: 운행횟수, dtype: float64"
      ]
     },
     "execution_count": 59,
     "metadata": {},
     "output_type": "execute_result"
    }
   ],
   "source": [
    "pd.merge(data2, temp).corr()['운행횟수']"
   ]
  },
  {
   "cell_type": "code",
   "execution_count": 61,
   "id": "c9d2400d-522d-4135-8d12-10e5719753f6",
   "metadata": {},
   "outputs": [
    {
     "data": {
      "text/html": [
       "<div>\n",
       "<style scoped>\n",
       "    .dataframe tbody tr th:only-of-type {\n",
       "        vertical-align: middle;\n",
       "    }\n",
       "\n",
       "    .dataframe tbody tr th {\n",
       "        vertical-align: top;\n",
       "    }\n",
       "\n",
       "    .dataframe thead th {\n",
       "        text-align: right;\n",
       "    }\n",
       "</style>\n",
       "<table border=\"1\" class=\"dataframe\">\n",
       "  <thead>\n",
       "    <tr style=\"text-align: right;\">\n",
       "      <th></th>\n",
       "      <th>호선</th>\n",
       "      <th>역명</th>\n",
       "      <th>미세먼지</th>\n",
       "      <th>이산화탄소</th>\n",
       "      <th>포름알데히드</th>\n",
       "      <th>일산화탄소</th>\n",
       "    </tr>\n",
       "  </thead>\n",
       "  <tbody>\n",
       "    <tr>\n",
       "      <th>0</th>\n",
       "      <td>1호선</td>\n",
       "      <td>서울역</td>\n",
       "      <td>70.50000</td>\n",
       "      <td>606</td>\n",
       "      <td>4.00000</td>\n",
       "      <td>0.80000</td>\n",
       "    </tr>\n",
       "    <tr>\n",
       "      <th>1</th>\n",
       "      <td>1호선</td>\n",
       "      <td>시청</td>\n",
       "      <td>54.70000</td>\n",
       "      <td>581</td>\n",
       "      <td>4.40000</td>\n",
       "      <td>0.70000</td>\n",
       "    </tr>\n",
       "    <tr>\n",
       "      <th>2</th>\n",
       "      <td>1호선</td>\n",
       "      <td>종각</td>\n",
       "      <td>82.90000</td>\n",
       "      <td>471</td>\n",
       "      <td>11.50000</td>\n",
       "      <td>0.70000</td>\n",
       "    </tr>\n",
       "    <tr>\n",
       "      <th>3</th>\n",
       "      <td>1호선</td>\n",
       "      <td>종로3가</td>\n",
       "      <td>70.40000</td>\n",
       "      <td>481</td>\n",
       "      <td>11.00000</td>\n",
       "      <td>1.00000</td>\n",
       "    </tr>\n",
       "    <tr>\n",
       "      <th>4</th>\n",
       "      <td>1호선</td>\n",
       "      <td>종로5가</td>\n",
       "      <td>70.20000</td>\n",
       "      <td>597</td>\n",
       "      <td>5.70000</td>\n",
       "      <td>0.80000</td>\n",
       "    </tr>\n",
       "    <tr>\n",
       "      <th>...</th>\n",
       "      <td>...</td>\n",
       "      <td>...</td>\n",
       "      <td>...</td>\n",
       "      <td>...</td>\n",
       "      <td>...</td>\n",
       "      <td>...</td>\n",
       "    </tr>\n",
       "    <tr>\n",
       "      <th>249</th>\n",
       "      <td>8호선</td>\n",
       "      <td>남한산성입구</td>\n",
       "      <td>43.20000</td>\n",
       "      <td>504</td>\n",
       "      <td>5.90000</td>\n",
       "      <td>0.50000</td>\n",
       "    </tr>\n",
       "    <tr>\n",
       "      <th>250</th>\n",
       "      <td>8호선</td>\n",
       "      <td>단대오거리</td>\n",
       "      <td>47.00000</td>\n",
       "      <td>518</td>\n",
       "      <td>6.90000</td>\n",
       "      <td>0.50000</td>\n",
       "    </tr>\n",
       "    <tr>\n",
       "      <th>251</th>\n",
       "      <td>8호선</td>\n",
       "      <td>신흥</td>\n",
       "      <td>59.60000</td>\n",
       "      <td>511</td>\n",
       "      <td>31.30000</td>\n",
       "      <td>0.50000</td>\n",
       "    </tr>\n",
       "    <tr>\n",
       "      <th>252</th>\n",
       "      <td>8호선</td>\n",
       "      <td>수진</td>\n",
       "      <td>71.60000</td>\n",
       "      <td>490</td>\n",
       "      <td>12.90000</td>\n",
       "      <td>0.60000</td>\n",
       "    </tr>\n",
       "    <tr>\n",
       "      <th>253</th>\n",
       "      <td>8호선</td>\n",
       "      <td>모란</td>\n",
       "      <td>97.00000</td>\n",
       "      <td>483</td>\n",
       "      <td>5.40000</td>\n",
       "      <td>0.50000</td>\n",
       "    </tr>\n",
       "  </tbody>\n",
       "</table>\n",
       "<p>254 rows × 6 columns</p>\n",
       "</div>"
      ],
      "text/plain": [
       "      호선      역명     미세먼지  이산화탄소   포름알데히드   일산화탄소\n",
       "0    1호선     서울역 70.50000    606  4.00000 0.80000\n",
       "1    1호선      시청 54.70000    581  4.40000 0.70000\n",
       "2    1호선      종각 82.90000    471 11.50000 0.70000\n",
       "3    1호선    종로3가 70.40000    481 11.00000 1.00000\n",
       "4    1호선    종로5가 70.20000    597  5.70000 0.80000\n",
       "..   ...     ...      ...    ...      ...     ...\n",
       "249  8호선  남한산성입구 43.20000    504  5.90000 0.50000\n",
       "250  8호선   단대오거리 47.00000    518  6.90000 0.50000\n",
       "251  8호선      신흥 59.60000    511 31.30000 0.50000\n",
       "252  8호선      수진 71.60000    490 12.90000 0.60000\n",
       "253  8호선      모란 97.00000    483  5.40000 0.50000\n",
       "\n",
       "[254 rows x 6 columns]"
      ]
     },
     "execution_count": 61,
     "metadata": {},
     "output_type": "execute_result"
    }
   ],
   "source": [
    "data2\n"
   ]
  },
  {
   "cell_type": "code",
   "execution_count": 74,
   "id": "420259b1-8fbb-43a0-af42-f8c666598aae",
   "metadata": {},
   "outputs": [
    {
     "data": {
      "text/html": [
       "<div>\n",
       "<style scoped>\n",
       "    .dataframe tbody tr th:only-of-type {\n",
       "        vertical-align: middle;\n",
       "    }\n",
       "\n",
       "    .dataframe tbody tr th {\n",
       "        vertical-align: top;\n",
       "    }\n",
       "\n",
       "    .dataframe thead th {\n",
       "        text-align: right;\n",
       "    }\n",
       "</style>\n",
       "<table border=\"1\" class=\"dataframe\">\n",
       "  <thead>\n",
       "    <tr style=\"text-align: right;\">\n",
       "      <th></th>\n",
       "      <th>역명</th>\n",
       "      <th>호선</th>\n",
       "      <th>측정일시</th>\n",
       "      <th>초미세먼지(내부)</th>\n",
       "      <th>운행횟수</th>\n",
       "      <th>자치구</th>\n",
       "      <th>초미세먼지(외부)</th>\n",
       "    </tr>\n",
       "  </thead>\n",
       "  <tbody>\n",
       "    <tr>\n",
       "      <th>0</th>\n",
       "      <td>동대문(1)</td>\n",
       "      <td>1호선</td>\n",
       "      <td>2021042700</td>\n",
       "      <td>65.30000</td>\n",
       "      <td>86.00000</td>\n",
       "      <td>종로구</td>\n",
       "      <td>17.00000</td>\n",
       "    </tr>\n",
       "    <tr>\n",
       "      <th>1</th>\n",
       "      <td>종각(1)</td>\n",
       "      <td>1호선</td>\n",
       "      <td>2021042700</td>\n",
       "      <td>64.30000</td>\n",
       "      <td>86.00000</td>\n",
       "      <td>종로구</td>\n",
       "      <td>17.00000</td>\n",
       "    </tr>\n",
       "    <tr>\n",
       "      <th>2</th>\n",
       "      <td>종로3가(1)</td>\n",
       "      <td>1호선</td>\n",
       "      <td>2021042700</td>\n",
       "      <td>50.50000</td>\n",
       "      <td>86.00000</td>\n",
       "      <td>종로구</td>\n",
       "      <td>17.00000</td>\n",
       "    </tr>\n",
       "    <tr>\n",
       "      <th>3</th>\n",
       "      <td>종로5가(1)</td>\n",
       "      <td>1호선</td>\n",
       "      <td>2021042700</td>\n",
       "      <td>95.60000</td>\n",
       "      <td>86.00000</td>\n",
       "      <td>종로구</td>\n",
       "      <td>17.00000</td>\n",
       "    </tr>\n",
       "    <tr>\n",
       "      <th>4</th>\n",
       "      <td>경복궁(3)</td>\n",
       "      <td>3호선</td>\n",
       "      <td>2021042700</td>\n",
       "      <td>22.70000</td>\n",
       "      <td>272.00000</td>\n",
       "      <td>종로구</td>\n",
       "      <td>17.00000</td>\n",
       "    </tr>\n",
       "    <tr>\n",
       "      <th>...</th>\n",
       "      <td>...</td>\n",
       "      <td>...</td>\n",
       "      <td>...</td>\n",
       "      <td>...</td>\n",
       "      <td>...</td>\n",
       "      <td>...</td>\n",
       "      <td>...</td>\n",
       "    </tr>\n",
       "    <tr>\n",
       "      <th>5419</th>\n",
       "      <td>가산디지털단지(7)</td>\n",
       "      <td>7호선</td>\n",
       "      <td>2021042719</td>\n",
       "      <td>33.80000</td>\n",
       "      <td>420.00000</td>\n",
       "      <td>금천구</td>\n",
       "      <td>15.00000</td>\n",
       "    </tr>\n",
       "    <tr>\n",
       "      <th>5420</th>\n",
       "      <td>가산디지털단지(7)</td>\n",
       "      <td>7호선</td>\n",
       "      <td>2021042720</td>\n",
       "      <td>29.20000</td>\n",
       "      <td>420.00000</td>\n",
       "      <td>금천구</td>\n",
       "      <td>17.00000</td>\n",
       "    </tr>\n",
       "    <tr>\n",
       "      <th>5421</th>\n",
       "      <td>가산디지털단지(7)</td>\n",
       "      <td>7호선</td>\n",
       "      <td>2021042721</td>\n",
       "      <td>18.80000</td>\n",
       "      <td>420.00000</td>\n",
       "      <td>금천구</td>\n",
       "      <td>12.00000</td>\n",
       "    </tr>\n",
       "    <tr>\n",
       "      <th>5422</th>\n",
       "      <td>가산디지털단지(7)</td>\n",
       "      <td>7호선</td>\n",
       "      <td>2021042722</td>\n",
       "      <td>18.40000</td>\n",
       "      <td>420.00000</td>\n",
       "      <td>금천구</td>\n",
       "      <td>11.00000</td>\n",
       "    </tr>\n",
       "    <tr>\n",
       "      <th>5423</th>\n",
       "      <td>가산디지털단지(7)</td>\n",
       "      <td>7호선</td>\n",
       "      <td>2021042723</td>\n",
       "      <td>24.80000</td>\n",
       "      <td>420.00000</td>\n",
       "      <td>금천구</td>\n",
       "      <td>11.00000</td>\n",
       "    </tr>\n",
       "  </tbody>\n",
       "</table>\n",
       "<p>5424 rows × 7 columns</p>\n",
       "</div>"
      ],
      "text/plain": [
       "              역명   호선        측정일시  초미세먼지(내부)      운행횟수  자치구  초미세먼지(외부)\n",
       "0         동대문(1)  1호선  2021042700   65.30000  86.00000  종로구   17.00000\n",
       "1          종각(1)  1호선  2021042700   64.30000  86.00000  종로구   17.00000\n",
       "2        종로3가(1)  1호선  2021042700   50.50000  86.00000  종로구   17.00000\n",
       "3        종로5가(1)  1호선  2021042700   95.60000  86.00000  종로구   17.00000\n",
       "4         경복궁(3)  3호선  2021042700   22.70000 272.00000  종로구   17.00000\n",
       "...          ...  ...         ...        ...       ...  ...        ...\n",
       "5419  가산디지털단지(7)  7호선  2021042719   33.80000 420.00000  금천구   15.00000\n",
       "5420  가산디지털단지(7)  7호선  2021042720   29.20000 420.00000  금천구   17.00000\n",
       "5421  가산디지털단지(7)  7호선  2021042721   18.80000 420.00000  금천구   12.00000\n",
       "5422  가산디지털단지(7)  7호선  2021042722   18.40000 420.00000  금천구   11.00000\n",
       "5423  가산디지털단지(7)  7호선  2021042723   24.80000 420.00000  금천구   11.00000\n",
       "\n",
       "[5424 rows x 7 columns]"
      ]
     },
     "execution_count": 74,
     "metadata": {},
     "output_type": "execute_result"
    }
   ],
   "source": [
    "data"
   ]
  },
  {
   "cell_type": "code",
   "execution_count": 72,
   "id": "6bf2f70c-c280-4f7a-b7de-1f6a5ed2ce60",
   "metadata": {},
   "outputs": [
    {
     "data": {
      "text/plain": [
       "<AxesSubplot:>"
      ]
     },
     "execution_count": 72,
     "metadata": {},
     "output_type": "execute_result"
    },
    {
     "data": {
      "image/png": "[encoded data removed]",
      "text/plain": [
       "<Figure size 432x288 with 1 Axes>"
      ]
     },
     "metadata": {
      "needs_background": "light"
     },
     "output_type": "display_data"
    }
   ],
   "source": [
    "data[data['역명']=='동대문(1)']['초미세먼지(내부)'].plot()"
   ]
  },
  {
   "cell_type": "code",
   "execution_count": 77,
   "id": "e94abe17-0376-4d6e-b845-b5ed2e1c547f",
   "metadata": {},
   "outputs": [
    {
     "data": {
      "text/plain": [
       "<AxesSubplot:>"
      ]
     },
     "execution_count": 77,
     "metadata": {},
     "output_type": "execute_result"
    },
    {
     "data": {
      "image/png": "[encoded data removed]",
      "text/plain": [
       "<Figure size 432x288 with 1 Axes>"
      ]
     },
     "metadata": {
      "needs_background": "light"
     },
     "output_type": "display_data"
    }
   ],
   "source": [
    "data[data['역명']=='동대문(1)']['초미세먼지(외부)'].plot()"
   ]
  },
  {
   "cell_type": "code",
   "execution_count": 82,
   "id": "79d440ca-37a7-482a-8f10-60d3d22f07a9",
   "metadata": {},
   "outputs": [
    {
     "data": {
      "text/plain": [
       "<AxesSubplot:>"
      ]
     },
     "execution_count": 82,
     "metadata": {},
     "output_type": "execute_result"
    },
    {
     "data": {
      "image/png": "[encoded data removed]",
      "text/plain": [
       "<Figure size 432x288 with 1 Axes>"
      ]
     },
     "metadata": {
      "needs_background": "light"
     },
     "output_type": "display_data"
    }
   ],
   "source": [
    "data[data['역명']=='경복궁(3)']['초미세먼지(내부)'].plot()"
   ]
  },
  {
   "cell_type": "code",
   "execution_count": 83,
   "id": "313df591-7d2f-45bb-8073-34a947e36fdb",
   "metadata": {},
   "outputs": [
    {
     "data": {
      "text/plain": [
       "<AxesSubplot:>"
      ]
     },
     "execution_count": 83,
     "metadata": {},
     "output_type": "execute_result"
    },
    {
     "data": {
      "image/png": "[encoded data removed]",
      "text/plain": [
       "<Figure size 432x288 with 1 Axes>"
      ]
     },
     "metadata": {
      "needs_background": "light"
     },
     "output_type": "display_data"
    }
   ],
   "source": [
    "data[data['역명']=='경복궁(3)']['초미세먼지(외부)'].plot()"
   ]
  },
  {
   "cell_type": "code",
   "execution_count": 76,
   "id": "d2c0ddba-6930-4589-9239-18859bff79c9",
   "metadata": {},
   "outputs": [
    {
     "data": {
      "text/plain": [
       "<AxesSubplot:>"
      ]
     },
     "execution_count": 76,
     "metadata": {},
     "output_type": "execute_result"
    },
    {
     "data": {
      "image/png": "[encoded data removed]",
      "text/plain": [
       "<Figure size 432x288 with 1 Axes>"
      ]
     },
     "metadata": {
      "needs_background": "light"
     },
     "output_type": "display_data"
    }
   ],
   "source": [
    "data[data['역명']=='가산디지털단지(7)']['초미세먼지(내부)'].plot()"
   ]
  },
  {
   "cell_type": "code",
   "execution_count": 78,
   "id": "45d13a78-38a0-4a6d-b466-d88dfe6cf393",
   "metadata": {},
   "outputs": [
    {
     "data": {
      "text/plain": [
       "<AxesSubplot:>"
      ]
     },
     "execution_count": 78,
     "metadata": {},
     "output_type": "execute_result"
    },
    {
     "data": {
      "image/png": "[encoded data removed]",
      "text/plain": [
       "<Figure size 432x288 with 1 Axes>"
      ]
     },
     "metadata": {
      "needs_background": "light"
     },
     "output_type": "display_data"
    }
   ],
   "source": [
    "data[data['역명']=='가산디지털단지(7)']['초미세먼지(외부)'].plot()"
   ]
  },
  {
   "cell_type": "code",
   "execution_count": 85,
   "id": "dbaf3b65-8ebf-43ae-896d-86ab650ac5ec",
   "metadata": {},
   "outputs": [],
   "source": [
    "data['내외부차이'] = data['초미세먼지(내부)'] - data['초미세먼지(외부)']"
   ]
  },
  {
   "cell_type": "code",
   "execution_count": 87,
   "id": "b8920fdd-e173-433f-8b6b-4d2a267ac446",
   "metadata": {},
   "outputs": [
    {
     "data": {
      "text/plain": [
       "<AxesSubplot:>"
      ]
     },
     "execution_count": 87,
     "metadata": {},
     "output_type": "execute_result"
    },
    {
     "data": {
      "image/png": "[encoded data removed]",
      "text/plain": [
       "<Figure size 432x288 with 1 Axes>"
      ]
     },
     "metadata": {
      "needs_background": "light"
     },
     "output_type": "display_data"
    }
   ],
   "source": [
    "data['내외부차이'].plot()"
   ]
  },
  {
   "cell_type": "code",
   "execution_count": 90,
   "id": "c62c0e6c-ca79-4aff-aded-c11a28006d5c",
   "metadata": {},
   "outputs": [
    {
     "data": {
      "text/html": [
       "<div>\n",
       "<style scoped>\n",
       "    .dataframe tbody tr th:only-of-type {\n",
       "        vertical-align: middle;\n",
       "    }\n",
       "\n",
       "    .dataframe tbody tr th {\n",
       "        vertical-align: top;\n",
       "    }\n",
       "\n",
       "    .dataframe thead th {\n",
       "        text-align: right;\n",
       "    }\n",
       "</style>\n",
       "<table border=\"1\" class=\"dataframe\">\n",
       "  <thead>\n",
       "    <tr style=\"text-align: right;\">\n",
       "      <th></th>\n",
       "      <th>측정일시</th>\n",
       "      <th>초미세먼지(내부)</th>\n",
       "      <th>운행횟수</th>\n",
       "      <th>초미세먼지(외부)</th>\n",
       "      <th>내외부차이</th>\n",
       "    </tr>\n",
       "  </thead>\n",
       "  <tbody>\n",
       "    <tr>\n",
       "      <th>측정일시</th>\n",
       "      <td>NaN</td>\n",
       "      <td>NaN</td>\n",
       "      <td>NaN</td>\n",
       "      <td>NaN</td>\n",
       "      <td>NaN</td>\n",
       "    </tr>\n",
       "    <tr>\n",
       "      <th>초미세먼지(내부)</th>\n",
       "      <td>NaN</td>\n",
       "      <td>1.00000</td>\n",
       "      <td>-0.41077</td>\n",
       "      <td>-0.36510</td>\n",
       "      <td>0.99877</td>\n",
       "    </tr>\n",
       "    <tr>\n",
       "      <th>운행횟수</th>\n",
       "      <td>NaN</td>\n",
       "      <td>-0.41077</td>\n",
       "      <td>1.00000</td>\n",
       "      <td>0.31744</td>\n",
       "      <td>-0.41934</td>\n",
       "    </tr>\n",
       "    <tr>\n",
       "      <th>초미세먼지(외부)</th>\n",
       "      <td>NaN</td>\n",
       "      <td>-0.36510</td>\n",
       "      <td>0.31744</td>\n",
       "      <td>1.00000</td>\n",
       "      <td>-0.40982</td>\n",
       "    </tr>\n",
       "    <tr>\n",
       "      <th>내외부차이</th>\n",
       "      <td>NaN</td>\n",
       "      <td>0.99877</td>\n",
       "      <td>-0.41934</td>\n",
       "      <td>-0.40982</td>\n",
       "      <td>1.00000</td>\n",
       "    </tr>\n",
       "  </tbody>\n",
       "</table>\n",
       "</div>"
      ],
      "text/plain": [
       "           측정일시  초미세먼지(내부)     운행횟수  초미세먼지(외부)    내외부차이\n",
       "측정일시        NaN        NaN      NaN        NaN      NaN\n",
       "초미세먼지(내부)   NaN    1.00000 -0.41077   -0.36510  0.99877\n",
       "운행횟수        NaN   -0.41077  1.00000    0.31744 -0.41934\n",
       "초미세먼지(외부)   NaN   -0.36510  0.31744    1.00000 -0.40982\n",
       "내외부차이       NaN    0.99877 -0.41934   -0.40982  1.00000"
      ]
     },
     "execution_count": 90,
     "metadata": {},
     "output_type": "execute_result"
    }
   ],
   "source": [
    "data.groupby('자치구').mean().corr()"
   ]
  },
  {
   "cell_type": "code",
   "execution_count": null,
   "id": "a2000ee6-665a-4d91-875d-a1e445b2d78d",
   "metadata": {},
   "outputs": [],
   "source": []
  }
 ],
 "metadata": {
  "kernelspec": {
   "display_name": "Python 3",
   "language": "python",
   "name": "python3"
  },
  "language_info": {
   "codemirror_mode": {
    "name": "ipython",
    "version": 3
   },
   "file_extension": ".py",
   "mimetype": "text/x-python",
   "name": "python",
   "nbconvert_exporter": "python",
   "pygments_lexer": "ipython3",
   "version": "3.8.8"
  }
 },
 "nbformat": 4,
 "nbformat_minor": 5
}
