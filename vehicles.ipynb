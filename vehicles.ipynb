{
 "cells": [
  {
   "cell_type": "code",
   "execution_count": 1,
   "id": "7c9f20e3-4947-4323-a668-b4ed45687e15",
   "metadata": {},
   "outputs": [],
   "source": [
    "# 라이브러리\n",
    "import pandas as pd\n",
    "import numpy as np\n",
    "import matplotlib.pyplot as plt\n",
    "import matplotlib\n",
    "import seaborn as sns\n",
    "from scipy import stats\n",
    "\n",
    "import warnings\n",
    "warnings.filterwarnings(action='ignore') "
   ]
  },
  {
   "cell_type": "code",
   "execution_count": 2,
   "id": "efac7e94-4b6f-4338-a093-8fa8bcb15df1",
   "metadata": {},
   "outputs": [],
   "source": [
    "vehicles = pd.read_csv('../dataset/vehicles.csv')"
   ]
  },
  {
   "cell_type": "code",
   "execution_count": 3,
   "id": "9dcca0dc-0ac3-4c56-b4ee-b0ea2a3c151c",
   "metadata": {},
   "outputs": [
    {
     "data": {
      "text/plain": [
       "(426880, 26)"
      ]
     },
     "execution_count": 3,
     "metadata": {},
     "output_type": "execute_result"
    }
   ],
   "source": [
    "vehicles.shape # 데이터의 row, column 수 확인"
   ]
  },
  {
   "cell_type": "code",
   "execution_count": 4,
   "id": "b1020bcd-a585-4123-aea8-971177d1d9da",
   "metadata": {},
   "outputs": [
    {
     "name": "stdout",
     "output_type": "stream",
     "text": [
      "<class 'pandas.core.frame.DataFrame'>\n",
      "RangeIndex: 426880 entries, 0 to 426879\n",
      "Data columns (total 26 columns):\n",
      " #   Column        Non-Null Count   Dtype  \n",
      "---  ------        --------------   -----  \n",
      " 0   id            426880 non-null  int64  \n",
      " 1   url           426880 non-null  object \n",
      " 2   region        426880 non-null  object \n",
      " 3   region_url    426880 non-null  object \n",
      " 4   price         426880 non-null  int64  \n",
      " 5   year          425675 non-null  float64\n",
      " 6   manufacturer  409234 non-null  object \n",
      " 7   model         421603 non-null  object \n",
      " 8   condition     252776 non-null  object \n",
      " 9   cylinders     249202 non-null  object \n",
      " 10  fuel          423867 non-null  object \n",
      " 11  odometer      422480 non-null  float64\n",
      " 12  title_status  418638 non-null  object \n",
      " 13  transmission  424324 non-null  object \n",
      " 14  VIN           265838 non-null  object \n",
      " 15  drive         296313 non-null  object \n",
      " 16  size          120519 non-null  object \n",
      " 17  type          334022 non-null  object \n",
      " 18  paint_color   296677 non-null  object \n",
      " 19  image_url     426812 non-null  object \n",
      " 20  description   426810 non-null  object \n",
      " 21  county        0 non-null       float64\n",
      " 22  state         426880 non-null  object \n",
      " 23  lat           420331 non-null  float64\n",
      " 24  long          420331 non-null  float64\n",
      " 25  posting_date  426812 non-null  object \n",
      "dtypes: float64(5), int64(2), object(19)\n",
      "memory usage: 84.7+ MB\n"
     ]
    }
   ],
   "source": [
    "vehicles.info()"
   ]
  },
  {
   "cell_type": "markdown",
   "id": "a20a1874-16b8-40c0-a21c-157becda7f44",
   "metadata": {},
   "source": [
    "결측치가 꽤 있는 것으로 보인다."
   ]
  },
  {
   "cell_type": "code",
   "execution_count": 5,
   "id": "c0193a29-e6fc-4159-92fe-4ccae9313ac0",
   "metadata": {},
   "outputs": [
    {
     "data": {
      "text/plain": [
       "id                   0\n",
       "url                  0\n",
       "region               0\n",
       "region_url           0\n",
       "price                0\n",
       "year              1205\n",
       "manufacturer     17646\n",
       "model             5277\n",
       "condition       174104\n",
       "cylinders       177678\n",
       "fuel              3013\n",
       "odometer          4400\n",
       "title_status      8242\n",
       "transmission      2556\n",
       "VIN             161042\n",
       "drive           130567\n",
       "size            306361\n",
       "type             92858\n",
       "paint_color     130203\n",
       "image_url           68\n",
       "description         70\n",
       "county          426880\n",
       "state                0\n",
       "lat               6549\n",
       "long              6549\n",
       "posting_date        68\n",
       "dtype: int64"
      ]
     },
     "execution_count": 5,
     "metadata": {},
     "output_type": "execute_result"
    }
   ],
   "source": [
    "vehicles.isnull().sum()"
   ]
  },
  {
   "cell_type": "code",
   "execution_count": 6,
   "id": "1fc406fc-406f-4528-9a6e-4ea13504bd36",
   "metadata": {},
   "outputs": [
    {
     "data": {
      "text/html": [
       "<div>\n",
       "<style scoped>\n",
       "    .dataframe tbody tr th:only-of-type {\n",
       "        vertical-align: middle;\n",
       "    }\n",
       "\n",
       "    .dataframe tbody tr th {\n",
       "        vertical-align: top;\n",
       "    }\n",
       "\n",
       "    .dataframe thead th {\n",
       "        text-align: right;\n",
       "    }\n",
       "</style>\n",
       "<table border=\"1\" class=\"dataframe\">\n",
       "  <thead>\n",
       "    <tr style=\"text-align: right;\">\n",
       "      <th></th>\n",
       "      <th>id</th>\n",
       "      <th>url</th>\n",
       "      <th>region</th>\n",
       "      <th>region_url</th>\n",
       "      <th>price</th>\n",
       "      <th>year</th>\n",
       "      <th>manufacturer</th>\n",
       "      <th>model</th>\n",
       "      <th>condition</th>\n",
       "      <th>cylinders</th>\n",
       "      <th>...</th>\n",
       "      <th>size</th>\n",
       "      <th>type</th>\n",
       "      <th>paint_color</th>\n",
       "      <th>image_url</th>\n",
       "      <th>description</th>\n",
       "      <th>county</th>\n",
       "      <th>state</th>\n",
       "      <th>lat</th>\n",
       "      <th>long</th>\n",
       "      <th>posting_date</th>\n",
       "    </tr>\n",
       "  </thead>\n",
       "  <tbody>\n",
       "    <tr>\n",
       "      <th>0</th>\n",
       "      <td>7222695916</td>\n",
       "      <td>https://prescott.craigslist.org/cto/d/prescott...</td>\n",
       "      <td>prescott</td>\n",
       "      <td>https://prescott.craigslist.org</td>\n",
       "      <td>6000</td>\n",
       "      <td>NaN</td>\n",
       "      <td>NaN</td>\n",
       "      <td>NaN</td>\n",
       "      <td>NaN</td>\n",
       "      <td>NaN</td>\n",
       "      <td>...</td>\n",
       "      <td>NaN</td>\n",
       "      <td>NaN</td>\n",
       "      <td>NaN</td>\n",
       "      <td>NaN</td>\n",
       "      <td>NaN</td>\n",
       "      <td>NaN</td>\n",
       "      <td>az</td>\n",
       "      <td>NaN</td>\n",
       "      <td>NaN</td>\n",
       "      <td>NaN</td>\n",
       "    </tr>\n",
       "    <tr>\n",
       "      <th>1</th>\n",
       "      <td>7218891961</td>\n",
       "      <td>https://fayar.craigslist.org/ctd/d/bentonville...</td>\n",
       "      <td>fayetteville</td>\n",
       "      <td>https://fayar.craigslist.org</td>\n",
       "      <td>11900</td>\n",
       "      <td>NaN</td>\n",
       "      <td>NaN</td>\n",
       "      <td>NaN</td>\n",
       "      <td>NaN</td>\n",
       "      <td>NaN</td>\n",
       "      <td>...</td>\n",
       "      <td>NaN</td>\n",
       "      <td>NaN</td>\n",
       "      <td>NaN</td>\n",
       "      <td>NaN</td>\n",
       "      <td>NaN</td>\n",
       "      <td>NaN</td>\n",
       "      <td>ar</td>\n",
       "      <td>NaN</td>\n",
       "      <td>NaN</td>\n",
       "      <td>NaN</td>\n",
       "    </tr>\n",
       "    <tr>\n",
       "      <th>2</th>\n",
       "      <td>7221797935</td>\n",
       "      <td>https://keys.craigslist.org/cto/d/summerland-k...</td>\n",
       "      <td>florida keys</td>\n",
       "      <td>https://keys.craigslist.org</td>\n",
       "      <td>21000</td>\n",
       "      <td>NaN</td>\n",
       "      <td>NaN</td>\n",
       "      <td>NaN</td>\n",
       "      <td>NaN</td>\n",
       "      <td>NaN</td>\n",
       "      <td>...</td>\n",
       "      <td>NaN</td>\n",
       "      <td>NaN</td>\n",
       "      <td>NaN</td>\n",
       "      <td>NaN</td>\n",
       "      <td>NaN</td>\n",
       "      <td>NaN</td>\n",
       "      <td>fl</td>\n",
       "      <td>NaN</td>\n",
       "      <td>NaN</td>\n",
       "      <td>NaN</td>\n",
       "    </tr>\n",
       "    <tr>\n",
       "      <th>3</th>\n",
       "      <td>7222270760</td>\n",
       "      <td>https://worcester.craigslist.org/cto/d/west-br...</td>\n",
       "      <td>worcester / central MA</td>\n",
       "      <td>https://worcester.craigslist.org</td>\n",
       "      <td>1500</td>\n",
       "      <td>NaN</td>\n",
       "      <td>NaN</td>\n",
       "      <td>NaN</td>\n",
       "      <td>NaN</td>\n",
       "      <td>NaN</td>\n",
       "      <td>...</td>\n",
       "      <td>NaN</td>\n",
       "      <td>NaN</td>\n",
       "      <td>NaN</td>\n",
       "      <td>NaN</td>\n",
       "      <td>NaN</td>\n",
       "      <td>NaN</td>\n",
       "      <td>ma</td>\n",
       "      <td>NaN</td>\n",
       "      <td>NaN</td>\n",
       "      <td>NaN</td>\n",
       "    </tr>\n",
       "    <tr>\n",
       "      <th>4</th>\n",
       "      <td>7210384030</td>\n",
       "      <td>https://greensboro.craigslist.org/cto/d/trinit...</td>\n",
       "      <td>greensboro</td>\n",
       "      <td>https://greensboro.craigslist.org</td>\n",
       "      <td>4900</td>\n",
       "      <td>NaN</td>\n",
       "      <td>NaN</td>\n",
       "      <td>NaN</td>\n",
       "      <td>NaN</td>\n",
       "      <td>NaN</td>\n",
       "      <td>...</td>\n",
       "      <td>NaN</td>\n",
       "      <td>NaN</td>\n",
       "      <td>NaN</td>\n",
       "      <td>NaN</td>\n",
       "      <td>NaN</td>\n",
       "      <td>NaN</td>\n",
       "      <td>nc</td>\n",
       "      <td>NaN</td>\n",
       "      <td>NaN</td>\n",
       "      <td>NaN</td>\n",
       "    </tr>\n",
       "  </tbody>\n",
       "</table>\n",
       "<p>5 rows × 26 columns</p>\n",
       "</div>"
      ],
      "text/plain": [
       "           id                                                url  \\\n",
       "0  7222695916  https://prescott.craigslist.org/cto/d/prescott...   \n",
       "1  7218891961  https://fayar.craigslist.org/ctd/d/bentonville...   \n",
       "2  7221797935  https://keys.craigslist.org/cto/d/summerland-k...   \n",
       "3  7222270760  https://worcester.craigslist.org/cto/d/west-br...   \n",
       "4  7210384030  https://greensboro.craigslist.org/cto/d/trinit...   \n",
       "\n",
       "                   region                         region_url  price  year  \\\n",
       "0                prescott    https://prescott.craigslist.org   6000   NaN   \n",
       "1            fayetteville       https://fayar.craigslist.org  11900   NaN   \n",
       "2            florida keys        https://keys.craigslist.org  21000   NaN   \n",
       "3  worcester / central MA   https://worcester.craigslist.org   1500   NaN   \n",
       "4              greensboro  https://greensboro.craigslist.org   4900   NaN   \n",
       "\n",
       "  manufacturer model condition cylinders  ... size  type paint_color  \\\n",
       "0          NaN   NaN       NaN       NaN  ...  NaN   NaN         NaN   \n",
       "1          NaN   NaN       NaN       NaN  ...  NaN   NaN         NaN   \n",
       "2          NaN   NaN       NaN       NaN  ...  NaN   NaN         NaN   \n",
       "3          NaN   NaN       NaN       NaN  ...  NaN   NaN         NaN   \n",
       "4          NaN   NaN       NaN       NaN  ...  NaN   NaN         NaN   \n",
       "\n",
       "  image_url description county state lat long posting_date  \n",
       "0       NaN         NaN    NaN    az NaN  NaN          NaN  \n",
       "1       NaN         NaN    NaN    ar NaN  NaN          NaN  \n",
       "2       NaN         NaN    NaN    fl NaN  NaN          NaN  \n",
       "3       NaN         NaN    NaN    ma NaN  NaN          NaN  \n",
       "4       NaN         NaN    NaN    nc NaN  NaN          NaN  \n",
       "\n",
       "[5 rows x 26 columns]"
      ]
     },
     "execution_count": 6,
     "metadata": {},
     "output_type": "execute_result"
    }
   ],
   "source": [
    "vehicles.head(5)"
   ]
  },
  {
   "cell_type": "markdown",
   "id": "988aabd8-12b6-4a85-8021-935904f4966c",
   "metadata": {},
   "source": [
    "- 변수의 종류들"
   ]
  },
  {
   "cell_type": "code",
   "execution_count": 7,
   "id": "1cd641fe-b69b-401c-a703-268d82c026ce",
   "metadata": {},
   "outputs": [
    {
     "data": {
      "text/plain": [
       "Index(['id', 'url', 'region', 'region_url', 'price', 'year', 'manufacturer',\n",
       "       'model', 'condition', 'cylinders', 'fuel', 'odometer', 'title_status',\n",
       "       'transmission', 'VIN', 'drive', 'size', 'type', 'paint_color',\n",
       "       'image_url', 'description', 'county', 'state', 'lat', 'long',\n",
       "       'posting_date'],\n",
       "      dtype='object')"
      ]
     },
     "execution_count": 7,
     "metadata": {},
     "output_type": "execute_result"
    }
   ],
   "source": [
    "vehicles.columns"
   ]
  },
  {
   "cell_type": "markdown",
   "id": "a5f0d9b0-ffd5-49f1-a9bd-97e5c2e7cdba",
   "metadata": {},
   "source": [
    "필요없어보이는 변수 : id, url, region_url, VIN, image_url, description, county(전부다 NA), posting_data\n",
    "\n",
    "변수선별은 추가검토 필요."
   ]
  },
  {
   "cell_type": "markdown",
   "id": "98c3ce8f-730c-4322-8366-0c431768898d",
   "metadata": {},
   "source": [
    "- 위도, 경도를 이용해서 지도에 나타낼 수 있다면 시각화로 괜찮을듯\n",
    "- 이 정보들로 가격을 예측하는 머신러닝 모델 하나 만들어도 괜찮을듯"
   ]
  },
  {
   "cell_type": "code",
   "execution_count": 8,
   "id": "dcaeed96-1ed7-408b-b3b1-50c9c24f003b",
   "metadata": {},
   "outputs": [],
   "source": [
    "df = vehicles[['region', 'price', 'year', 'manufacturer','model', 'condition',\n",
    "                 'cylinders', 'fuel', 'odometer', 'title_status', 'transmission', \n",
    "                 'drive', 'size', 'type', 'paint_color', 'state', \n",
    "                 'lat', 'long']]"
   ]
  },
  {
   "cell_type": "markdown",
   "id": "c5e653e4-0abc-4e32-a4d3-0087f9012423",
   "metadata": {},
   "source": [
    "# 변수별 EDA"
   ]
  },
  {
   "cell_type": "markdown",
   "id": "28f6363b-1068-4524-b898-084ade846368",
   "metadata": {},
   "source": [
    "## 수치형 자료 요약통계"
   ]
  },
  {
   "cell_type": "code",
   "execution_count": 9,
   "id": "6866b1fd-5298-4bae-a692-0b3a8e6ff684",
   "metadata": {},
   "outputs": [
    {
     "data": {
      "text/plain": [
       "Index(['region', 'price', 'year', 'manufacturer', 'model', 'condition',\n",
       "       'cylinders', 'fuel', 'odometer', 'title_status', 'transmission',\n",
       "       'drive', 'size', 'type', 'paint_color', 'state', 'lat', 'long'],\n",
       "      dtype='object')"
      ]
     },
     "execution_count": 9,
     "metadata": {},
     "output_type": "execute_result"
    }
   ],
   "source": [
    "df.columns"
   ]
  },
  {
   "cell_type": "code",
   "execution_count": 10,
   "id": "1b1bc2c9-9edd-4e1e-94be-c624e37df624",
   "metadata": {},
   "outputs": [
    {
     "data": {
      "text/html": [
       "<div>\n",
       "<style scoped>\n",
       "    .dataframe tbody tr th:only-of-type {\n",
       "        vertical-align: middle;\n",
       "    }\n",
       "\n",
       "    .dataframe tbody tr th {\n",
       "        vertical-align: top;\n",
       "    }\n",
       "\n",
       "    .dataframe thead th {\n",
       "        text-align: right;\n",
       "    }\n",
       "</style>\n",
       "<table border=\"1\" class=\"dataframe\">\n",
       "  <thead>\n",
       "    <tr style=\"text-align: right;\">\n",
       "      <th></th>\n",
       "      <th>price</th>\n",
       "      <th>year</th>\n",
       "      <th>odometer</th>\n",
       "      <th>lat</th>\n",
       "      <th>long</th>\n",
       "    </tr>\n",
       "  </thead>\n",
       "  <tbody>\n",
       "    <tr>\n",
       "      <th>count</th>\n",
       "      <td>4.268800e+05</td>\n",
       "      <td>425675.000000</td>\n",
       "      <td>4.224800e+05</td>\n",
       "      <td>420331.000000</td>\n",
       "      <td>420331.000000</td>\n",
       "    </tr>\n",
       "    <tr>\n",
       "      <th>mean</th>\n",
       "      <td>7.519903e+04</td>\n",
       "      <td>2011.235191</td>\n",
       "      <td>9.804333e+04</td>\n",
       "      <td>38.493940</td>\n",
       "      <td>-94.748599</td>\n",
       "    </tr>\n",
       "    <tr>\n",
       "      <th>std</th>\n",
       "      <td>1.218228e+07</td>\n",
       "      <td>9.452120</td>\n",
       "      <td>2.138815e+05</td>\n",
       "      <td>5.841533</td>\n",
       "      <td>18.365462</td>\n",
       "    </tr>\n",
       "    <tr>\n",
       "      <th>min</th>\n",
       "      <td>0.000000e+00</td>\n",
       "      <td>1900.000000</td>\n",
       "      <td>0.000000e+00</td>\n",
       "      <td>-84.122245</td>\n",
       "      <td>-159.827728</td>\n",
       "    </tr>\n",
       "    <tr>\n",
       "      <th>25%</th>\n",
       "      <td>5.900000e+03</td>\n",
       "      <td>2008.000000</td>\n",
       "      <td>3.770400e+04</td>\n",
       "      <td>34.601900</td>\n",
       "      <td>-111.939847</td>\n",
       "    </tr>\n",
       "    <tr>\n",
       "      <th>50%</th>\n",
       "      <td>1.395000e+04</td>\n",
       "      <td>2013.000000</td>\n",
       "      <td>8.554800e+04</td>\n",
       "      <td>39.150100</td>\n",
       "      <td>-88.432600</td>\n",
       "    </tr>\n",
       "    <tr>\n",
       "      <th>75%</th>\n",
       "      <td>2.648575e+04</td>\n",
       "      <td>2017.000000</td>\n",
       "      <td>1.335425e+05</td>\n",
       "      <td>42.398900</td>\n",
       "      <td>-80.832039</td>\n",
       "    </tr>\n",
       "    <tr>\n",
       "      <th>max</th>\n",
       "      <td>3.736929e+09</td>\n",
       "      <td>2022.000000</td>\n",
       "      <td>1.000000e+07</td>\n",
       "      <td>82.390818</td>\n",
       "      <td>173.885502</td>\n",
       "    </tr>\n",
       "  </tbody>\n",
       "</table>\n",
       "</div>"
      ],
      "text/plain": [
       "              price           year      odometer            lat           long\n",
       "count  4.268800e+05  425675.000000  4.224800e+05  420331.000000  420331.000000\n",
       "mean   7.519903e+04    2011.235191  9.804333e+04      38.493940     -94.748599\n",
       "std    1.218228e+07       9.452120  2.138815e+05       5.841533      18.365462\n",
       "min    0.000000e+00    1900.000000  0.000000e+00     -84.122245    -159.827728\n",
       "25%    5.900000e+03    2008.000000  3.770400e+04      34.601900    -111.939847\n",
       "50%    1.395000e+04    2013.000000  8.554800e+04      39.150100     -88.432600\n",
       "75%    2.648575e+04    2017.000000  1.335425e+05      42.398900     -80.832039\n",
       "max    3.736929e+09    2022.000000  1.000000e+07      82.390818     173.885502"
      ]
     },
     "execution_count": 10,
     "metadata": {},
     "output_type": "execute_result"
    }
   ],
   "source": [
    "df.describe()"
   ]
  },
  {
   "cell_type": "code",
   "execution_count": 11,
   "id": "7f2c598c-ccc0-4f1f-8e05-f62d20deeb0e",
   "metadata": {},
   "outputs": [
    {
     "data": {
      "text/plain": [
       "<AxesSubplot:>"
      ]
     },
     "execution_count": 11,
     "metadata": {},
     "output_type": "execute_result"
    },
    {
     "data": {
      "image/png": "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\n",
      "text/plain": [
       "<Figure size 1080x1080 with 2 Axes>"
      ]
     },
     "metadata": {
      "needs_background": "light"
     },
     "output_type": "display_data"
    }
   ],
   "source": [
    "plt.figure(figsize=(15,15))\n",
    "sns.heatmap(data = df.corr(), annot=True, fmt = '.2f', linewidths=.5, cmap='Blues')"
   ]
  },
  {
   "cell_type": "markdown",
   "id": "bd57ebb1-a9f3-414d-9de3-76d69fec03f9",
   "metadata": {},
   "source": [
    "- 상관계수로 볼만한 정보는 별로 없는듯 ,,, 변수가 위도, 경도, 년도여서..\n",
    "    odometer는 상관계수 엄청 작네요"
   ]
  },
  {
   "cell_type": "code",
   "execution_count": 12,
   "id": "f487bc5f-3a71-41a0-8dfa-62930f49b3d6",
   "metadata": {},
   "outputs": [
    {
     "data": {
      "text/plain": [
       "count    4.224800e+05\n",
       "mean     9.804333e+04\n",
       "std      2.138815e+05\n",
       "min      0.000000e+00\n",
       "25%      3.770400e+04\n",
       "50%      8.554800e+04\n",
       "75%      1.335425e+05\n",
       "max      1.000000e+07\n",
       "Name: odometer, dtype: float64"
      ]
     },
     "execution_count": 12,
     "metadata": {},
     "output_type": "execute_result"
    }
   ],
   "source": [
    "df['odometer'].describe()"
   ]
  },
  {
   "cell_type": "code",
   "execution_count": 13,
   "id": "c5b9504a-4ab3-4f3b-b9ef-6da640910b3d",
   "metadata": {},
   "outputs": [
    {
     "data": {
      "text/plain": [
       "0             NaN\n",
       "1             NaN\n",
       "2             NaN\n",
       "3             NaN\n",
       "4             NaN\n",
       "           ...   \n",
       "426875    32226.0\n",
       "426876    12029.0\n",
       "426877     4174.0\n",
       "426878    30112.0\n",
       "426879    22716.0\n",
       "Name: odometer, Length: 426880, dtype: float64"
      ]
     },
     "execution_count": 13,
     "metadata": {},
     "output_type": "execute_result"
    }
   ],
   "source": [
    "df['odometer']"
   ]
  },
  {
   "cell_type": "markdown",
   "id": "16f65bfd-7923-471f-9d53-b6924ab4493a",
   "metadata": {},
   "source": [
    "## 범주형자료 요약통계"
   ]
  },
  {
   "cell_type": "code",
   "execution_count": 14,
   "id": "4f6ef507-4f6d-40da-818b-4963eef7a953",
   "metadata": {},
   "outputs": [
    {
     "data": {
      "text/html": [
       "<div>\n",
       "<style scoped>\n",
       "    .dataframe tbody tr th:only-of-type {\n",
       "        vertical-align: middle;\n",
       "    }\n",
       "\n",
       "    .dataframe tbody tr th {\n",
       "        vertical-align: top;\n",
       "    }\n",
       "\n",
       "    .dataframe thead th {\n",
       "        text-align: right;\n",
       "    }\n",
       "</style>\n",
       "<table border=\"1\" class=\"dataframe\">\n",
       "  <thead>\n",
       "    <tr style=\"text-align: right;\">\n",
       "      <th></th>\n",
       "      <th>region</th>\n",
       "      <th>manufacturer</th>\n",
       "      <th>model</th>\n",
       "      <th>condition</th>\n",
       "      <th>cylinders</th>\n",
       "      <th>fuel</th>\n",
       "      <th>title_status</th>\n",
       "      <th>transmission</th>\n",
       "      <th>drive</th>\n",
       "      <th>size</th>\n",
       "      <th>type</th>\n",
       "      <th>paint_color</th>\n",
       "      <th>state</th>\n",
       "    </tr>\n",
       "  </thead>\n",
       "  <tbody>\n",
       "    <tr>\n",
       "      <th>count</th>\n",
       "      <td>426880</td>\n",
       "      <td>409234</td>\n",
       "      <td>421603</td>\n",
       "      <td>252776</td>\n",
       "      <td>249202</td>\n",
       "      <td>423867</td>\n",
       "      <td>418638</td>\n",
       "      <td>424324</td>\n",
       "      <td>296313</td>\n",
       "      <td>120519</td>\n",
       "      <td>334022</td>\n",
       "      <td>296677</td>\n",
       "      <td>426880</td>\n",
       "    </tr>\n",
       "    <tr>\n",
       "      <th>unique</th>\n",
       "      <td>404</td>\n",
       "      <td>42</td>\n",
       "      <td>29667</td>\n",
       "      <td>6</td>\n",
       "      <td>8</td>\n",
       "      <td>5</td>\n",
       "      <td>6</td>\n",
       "      <td>3</td>\n",
       "      <td>3</td>\n",
       "      <td>4</td>\n",
       "      <td>13</td>\n",
       "      <td>12</td>\n",
       "      <td>51</td>\n",
       "    </tr>\n",
       "    <tr>\n",
       "      <th>top</th>\n",
       "      <td>columbus</td>\n",
       "      <td>ford</td>\n",
       "      <td>f-150</td>\n",
       "      <td>good</td>\n",
       "      <td>6 cylinders</td>\n",
       "      <td>gas</td>\n",
       "      <td>clean</td>\n",
       "      <td>automatic</td>\n",
       "      <td>4wd</td>\n",
       "      <td>full-size</td>\n",
       "      <td>sedan</td>\n",
       "      <td>white</td>\n",
       "      <td>ca</td>\n",
       "    </tr>\n",
       "    <tr>\n",
       "      <th>freq</th>\n",
       "      <td>3608</td>\n",
       "      <td>70985</td>\n",
       "      <td>8009</td>\n",
       "      <td>121456</td>\n",
       "      <td>94169</td>\n",
       "      <td>356209</td>\n",
       "      <td>405117</td>\n",
       "      <td>336524</td>\n",
       "      <td>131904</td>\n",
       "      <td>63465</td>\n",
       "      <td>87056</td>\n",
       "      <td>79285</td>\n",
       "      <td>50614</td>\n",
       "    </tr>\n",
       "  </tbody>\n",
       "</table>\n",
       "</div>"
      ],
      "text/plain": [
       "          region manufacturer   model condition    cylinders    fuel  \\\n",
       "count     426880       409234  421603    252776       249202  423867   \n",
       "unique       404           42   29667         6            8       5   \n",
       "top     columbus         ford   f-150      good  6 cylinders     gas   \n",
       "freq        3608        70985    8009    121456        94169  356209   \n",
       "\n",
       "       title_status transmission   drive       size    type paint_color  \\\n",
       "count        418638       424324  296313     120519  334022      296677   \n",
       "unique            6            3       3          4      13          12   \n",
       "top           clean    automatic     4wd  full-size   sedan       white   \n",
       "freq         405117       336524  131904      63465   87056       79285   \n",
       "\n",
       "         state  \n",
       "count   426880  \n",
       "unique      51  \n",
       "top         ca  \n",
       "freq     50614  "
      ]
     },
     "execution_count": 14,
     "metadata": {},
     "output_type": "execute_result"
    }
   ],
   "source": [
    "df.describe(include='object')"
   ]
  },
  {
   "cell_type": "markdown",
   "id": "d6b47c06-b699-4408-80d4-69cdde77abd6",
   "metadata": {},
   "source": [
    "- condition같은 변수를 인코딩해서 상관계수를 보면 좋을듯."
   ]
  },
  {
   "cell_type": "code",
   "execution_count": 15,
   "id": "e2d7c656-b0f9-4235-bdc1-f81dbdef45c8",
   "metadata": {},
   "outputs": [
    {
     "data": {
      "text/plain": [
       "good         121456\n",
       "excellent    101467\n",
       "like new      21178\n",
       "fair           6769\n",
       "new            1305\n",
       "salvage         601\n",
       "Name: condition, dtype: int64"
      ]
     },
     "execution_count": 15,
     "metadata": {},
     "output_type": "execute_result"
    }
   ],
   "source": [
    "df['condition'].value_counts()"
   ]
  },
  {
   "cell_type": "markdown",
   "id": "2aa19287-2777-44d0-8039-dd17319355dd",
   "metadata": {},
   "source": [
    "좋은순서대로 new - like new - excellent - good - fair / salvage인가? ... 조사필요함"
   ]
  },
  {
   "cell_type": "code",
   "execution_count": 16,
   "id": "e487f776-40f4-4377-952c-65d159fc3624",
   "metadata": {},
   "outputs": [
    {
     "data": {
      "text/plain": [
       "-0.010042616412516987"
      ]
     },
     "execution_count": 16,
     "metadata": {},
     "output_type": "execute_result"
    }
   ],
   "source": [
    "df['condition_int'] = np.NaN\n",
    "df.loc[df['condition'] == 'new', 'condition_int'] = 90\n",
    "df.loc[df['condition'] == 'like new', 'condition_int'] = 90\n",
    "df.loc[df['condition'] == 'excellent', 'condition_int'] = 90\n",
    "df.loc[df['condition'] == 'good', 'condition_int'] = 90\n",
    "df.loc[df['condition'] == 'salvage', 'condition_int'] = 1\n",
    "df.loc[df['condition'] == 'fair', 'condition_int'] = 1\n",
    "\n",
    "\n",
    "df.corr()['price']['condition_int']"
   ]
  },
  {
   "cell_type": "markdown",
   "id": "780ec3e9-f10c-4301-9079-140fd88446b8",
   "metadata": {},
   "source": [
    "상관계수가 매우 낮게나온다.. 개선법 없을까?"
   ]
  },
  {
   "cell_type": "code",
   "execution_count": 17,
   "id": "913d429f-f476-4012-9387-7683aacb9f39",
   "metadata": {},
   "outputs": [
    {
     "data": {
      "text/plain": [
       "<AxesSubplot:xlabel='condition', ylabel='count'>"
      ]
     },
     "execution_count": 17,
     "metadata": {},
     "output_type": "execute_result"
    },
    {
     "data": {
      "image/png": "iVBORw0KGgoAAAANSUhEUgAAAZgAAAEGCAYAAABYV4NmAAAAOXRFWHRTb2Z0d2FyZQBNYXRwbG90bGliIHZlcnNpb24zLjMuNCwgaHR0cHM6Ly9tYXRwbG90bGliLm9yZy8QVMy6AAAACXBIWXMAAAsTAAALEwEAmpwYAAAcNUlEQVR4nO3df5xcdX3v8dfbBCGACQlZaEjQjSXoBarSbBHFq1zjJbEKoRpkfYgEzTWKiLW3KqRapdLckgteNVJiU4j5IQVilBKs/IihAZSQsOFXSBDZB0GSkpKlSWPAkprwuX98v1tml9llstnvTLK8n4/HPubM55zvme+ZnZ33nu85c0YRgZmZWX97TaM7YGZmA5MDxszMinDAmJlZEQ4YMzMrwgFjZmZFDG50B/YVI0eOjObm5kZ3w8xsv7JmzZpnI6Kp2jwHTNbc3ExbW1uju2Fmtl+R9Oue5nmIzMzMinDAmJlZEQ4YMzMrwgFjZmZFOGDMzKwIB4yZmRXhgDEzsyIcMGZmVkSxgJE0T9IWSY9U1C6X9EtJD0u6UdJhFfNmSGqX9JikiRX18ZLW5nmzJSnXD5R0Q66vktRc0WaqpMfzz9RS22hmZj0r+Un++cCVwMKK2jJgRkTskjQLmAFcJOk4oBU4HjgK+JmkYyNiNzAHmA7cC/wUmATcAkwDtkXEMZJagVnA2ZJGAF8HWoAA1khaGhHb+rIR47+08JUX2sesufzcRnfBzKzcHkxE3AVs7Va7PSJ25bv3AmPy9GTg+ojYGREbgHbgJEmjgKERsTLSV28uBM6saLMgTy8BJuS9m4nAsojYmkNlGSmUzMysjhp5DOaTpD0RgNHAxop5m3JtdJ7uXu/SJofWduDwXtb1MpKmS2qT1NbR0bFXG2NmZl01JGAkfQXYBVzbWaqyWPRS72ubrsWIuRHREhEtTU1VLwZqZmZ9VPeAyQfdPwh8LA97QdrLOLpisTHA07k+pkq9SxtJg4FhpCG5ntZlZmZ1VNeAkTQJuAg4IyJ+WzFrKdCazwwbC4wDVkfEZmCHpJPz8ZVzgZsq2nSeITYFuCMH1m3AaZKGSxoOnJZrZmZWR8XOIpN0HXAqMFLSJtKZXTOAA4Fl+WzjeyPiMxGxTtJiYD1p6OyCfAYZwPmkM9KGkI7ZdB63uQZYJKmdtOfSChARWyVdCtyXl/tGRHQ52cDMzMorFjAR8dEq5Wt6WX4mMLNKvQ04oUr9BeCsHtY1D5hXc2fNzKzf+ZP8ZmZWhAPGzMyKcMCYmVkRDhgzMyvCAWNmZkU4YMzMrAgHjJmZFeGAMTOzIhwwZmZWhAPGzMyKcMCYmVkRDhgzMyvCAWNmZkU4YMzMrAgHjJmZFeGAMTOzIhwwZmZWhAPGzMyKcMCYmVkRDhgzMyvCAWNmZkU4YMzMrAgHjJmZFeGAMTOzIhwwZmZWRLGAkTRP0hZJj1TURkhaJunxfDu8Yt4MSe2SHpM0saI+XtLaPG+2JOX6gZJuyPVVkpor2kzNj/G4pKmlttHMzHo2uOC65wNXAgsrahcDyyPiMkkX5/sXSToOaAWOB44Cfibp2IjYDcwBpgP3Aj8FJgG3ANOAbRFxjKRWYBZwtqQRwNeBFiCANZKWRsS2gtu633rqG3/Q6C7skdd/bW2ju2BmNSq2BxMRdwFbu5UnAwvy9ALgzIr69RGxMyI2AO3ASZJGAUMjYmVEBCmszqyyriXAhLx3MxFYFhFbc6gsI4WSmZnVUb2PwRwZEZsB8u0RuT4a2Fix3KZcG52nu9e7tImIXcB24PBe1vUykqZLapPU1tHRsRebZWZm3e0rB/lVpRa91PvapmsxYm5EtERES1NTU00dNTOz2tQ7YJ7Jw17k2y25vgk4umK5McDTuT6mSr1LG0mDgWGkIbme1mVmZnVU74BZCnSe1TUVuKmi3prPDBsLjANW52G0HZJOzsdXzu3WpnNdU4A78nGa24DTJA3PZ6mdlmtmZlZHxc4ik3QdcCowUtIm0pldlwGLJU0DngLOAoiIdZIWA+uBXcAF+QwygPNJZ6QNIZ09dkuuXwMsktRO2nNpzevaKulS4L683DciovvJBmZmVlixgImIj/Ywa0IPy88EZlaptwEnVKm/QA6oKvPmAfNq7qyZmfW7feUgv5mZDTAOGDMzK8IBY2ZmRThgzMysCAeMmZkV4YAxM7MiHDBmZlaEA8bMzIpwwJiZWREOGDMzK8IBY2ZmRThgzMysCAeMmZkV4YAxM7MiHDBmZlaEA8bMzIpwwJiZWREOGDMzK8IBY2ZmRThgzMysCAeMmZkV4YAxM7MiHDBmZlaEA8bMzIpwwJiZWRENCRhJfyZpnaRHJF0n6SBJIyQtk/R4vh1esfwMSe2SHpM0saI+XtLaPG+2JOX6gZJuyPVVkpobsJlmZq9qdQ8YSaOBzwMtEXECMAhoBS4GlkfEOGB5vo+k4/L844FJwFWSBuXVzQGmA+Pyz6RcnwZsi4hjgG8Bs+qwaWZmVqFRQ2SDgSGSBgMHA08Dk4EFef4C4Mw8PRm4PiJ2RsQGoB04SdIoYGhErIyIABZ2a9O5riXAhM69GzMzq4+6B0xE/AtwBfAUsBnYHhG3A0dGxOa8zGbgiNxkNLCxYhWbcm10nu5e79ImInYB24HDu/dF0nRJbZLaOjo6+mcDzcwMaMwQ2XDSHsZY4CjgEEnn9NakSi16qffWpmshYm5EtERES1NTU+8dNzOzPdKIIbL3ARsioiMifgf8GHgn8Ewe9iLfbsnLbwKOrmg/hjSktilPd693aZOH4YYBW4tsjZmZVdWIgHkKOFnSwfm4yATgUWApMDUvMxW4KU8vBVrzmWFjSQfzV+dhtB2STs7rObdbm851TQHuyMdpzMysTgbX+wEjYpWkJcD9wC7gAWAucCiwWNI0UgidlZdfJ2kxsD4vf0FE7M6rOx+YDwwBbsk/ANcAiyS1k/ZcWuuwaWZmVqHuAQMQEV8Hvt6tvJO0N1Nt+ZnAzCr1NuCEKvUXyAFlZmaN4U/ym5lZEQ4YMzMrwgFjZmZFOGDMzKwIB4yZmRXhgDEzsyIcMGZmVoQDxszMinDAmJlZEQ4YMzMrwgFjZmZF1BQwkpbXUjMzM+vU68UuJR1E+krjkfmLwjq/yGso6cvCzMzMqnqlqyl/GvgCKUzW8FLA/Ab423LdMjOz/V2vARMR3wG+I+nCiPhunfpkZmYDQE3fBxMR35X0TqC5sk1ELCzULzMz28/VFDCSFgG/DzwIdH6bZAAOGDMzq6rWb7RsAY7z99qbmVmtav0czCPA75XsiJmZDSy17sGMBNZLWg3s7CxGxBlFemVmZvu9WgPmkpKdMDOzgafWs8juLN0RMzMbWGo9i2wH6awxgNcCBwDPR8TQUh0zM7P9W617MK+rvC/pTOCkEh0yM7OBoU9XU46IfwTe279dMTOzgaTWqyl/qOJniqTLeGnIbI9JOkzSEkm/lPSopHdIGiFpmaTH8+3wiuVnSGqX9JikiRX18ZLW5nmzJSnXD5R0Q66vktTc176amVnf1LoHc3rFz0RgBzB5Lx73O8CtEfFm4K3Ao8DFwPKIGAcsz/eRdBzQChwPTAKukjQor2cOMB0Yl38m5fo0YFtEHAN8C5i1F301M7M+qPUYzCf66wElDQXeDZyX1/2fwH9KmgycmhdbAKwALiIF2fURsRPYIKkdOEnSk8DQiFiZ17sQOBO4Jbe5JK9rCXClJPlKBGZm9VPrENkYSTdK2iLpGUk/kjSmj4/5RqAD+L6kByRdLekQ4MiI2AyQb4/Iy48GNla035Rro/N093qXNhGxC9gOHF5lu6ZLapPU1tHR0cfNMTOzamodIvs+sJT0vTCjgZtzrS8GA38IzImIE4HnycNhPVCVWvRS761N10LE3IhoiYiWpqam3nttZmZ7pNaAaYqI70fErvwzH+jrO/ImYFNErMr3l5AC5xlJowDy7ZaK5Y+uaD8GeDrXx1Spd2kjaTAwDNjax/6amVkf1Bowz0o6R9Kg/HMO8G99ecCI+Fdgo6Q35dIEYD1pD2lqrk0FbsrTS4HWfGbYWNLB/NV5GG2HpJPz2WPndmvTua4pwB0+/mJmVl+1Xovsk8CVpDOyArgH2JsD/xcC10p6LfBEXtdrgMWSpgFPAWcBRMQ6SYtJIbQLuCAiOr+T5nxgPjCEdHD/lly/BliUTwjYSjoLzczM6qjWgLkUmBoR2wAkjQCuIAXPHouIB0nfMdPdhB6WnwnMrFJvA06oUn+BHFBmZtYYtQ6RvaUzXAAiYitwYpkumZnZQFBrwLym2yfrR1D73o+Zmb0K1RoS3wTukbSEdAzmI1QZsjIzM+tU6yf5F0pqI13gUsCHImJ90Z6Zmdl+reZhrhwoDhUzM6tJny7Xb2Zm9kocMGZmVoQDxszMinDAmJlZEQ4YMzMrwgFjZmZFOGDMzKwIB4yZmRXhgDEzsyIcMGZmVoQDxszMinDAmJlZEQ4YMzMrwgFjZmZFOGDMzKwIB4yZmRXhgDEzsyIcMGZmVoQDxszMinDAmJlZEQ0LGEmDJD0g6Sf5/ghJyyQ9nm+HVyw7Q1K7pMckTayoj5e0Ns+bLUm5fqCkG3J9laTmum+gmdmrXCP3YP4UeLTi/sXA8ogYByzP95F0HNAKHA9MAq6SNCi3mQNMB8bln0m5Pg3YFhHHAN8CZpXdFDMz664hASNpDPAB4OqK8mRgQZ5eAJxZUb8+InZGxAagHThJ0ihgaESsjIgAFnZr07muJcCEzr0bMzOrj0btwXwb+DLwYkXtyIjYDJBvj8j10cDGiuU25droPN293qVNROwCtgOH9+sWmJlZr+oeMJI+CGyJiDW1NqlSi17qvbXp3pfpktoktXV0dNTYHTMzq0Uj9mBOAc6Q9CRwPfBeST8AnsnDXuTbLXn5TcDRFe3HAE/n+pgq9S5tJA0GhgFbu3ckIuZGREtEtDQ1NfXP1pmZGdCAgImIGRExJiKaSQfv74iIc4ClwNS82FTgpjy9FGjNZ4aNJR3MX52H0XZIOjkfXzm3W5vOdU3Jj/GyPRgzMytncKM7UOEyYLGkacBTwFkAEbFO0mJgPbALuCAiduc25wPzgSHALfkH4BpgkaR20p5La702wszMkoYGTESsAFbk6X8DJvSw3ExgZpV6G3BClfoL5IAyM7PG8Cf5zcysCAeMmZkV4YAxM7MiHDBmZlaEA8bMzIpwwJiZWREOGDMzK8IBY2ZmRThgzMysCAeMmZkV4YAxM7MiHDBmZlaEA8bMzIpwwJiZWREOGDMzK8IBY2ZmRThgzMysCAeMmZkV4YAxM7MiHDBmZlaEA8bMzIpwwJiZWREOGDMzK8IBY2ZmRThgzMysCAeMmZkVUfeAkXS0pH+W9KikdZL+NNdHSFom6fF8O7yizQxJ7ZIekzSxoj5e0to8b7Yk5fqBkm7I9VWSmuu9nWZmr3aDG/CYu4A/j4j7Jb0OWCNpGXAesDwiLpN0MXAxcJGk44BW4HjgKOBnko6NiN3AHGA6cC/wU2AScAswDdgWEcdIagVmAWfXdSvNCrvz3e9pdBf22HvuurPRXbA6qvseTERsjoj78/QO4FFgNDAZWJAXWwCcmacnA9dHxM6I2AC0AydJGgUMjYiVERHAwm5tOte1BJjQuXdjZmb10dBjMHno6kRgFXBkRGyGFELAEXmx0cDGimabcm10nu5e79ImInYB24HDqzz+dEltkto6Ojr6aavMzAwaGDCSDgV+BHwhIn7T26JVatFLvbc2XQsRcyOiJSJampqaXqnLZma2BxoSMJIOIIXLtRHx41x+Jg97kW+35Pom4OiK5mOAp3N9TJV6lzaSBgPDgK39vyVmZtaTRpxFJuAa4NGI+H8Vs5YCU/P0VOCminprPjNsLDAOWJ2H0XZIOjmv89xubTrXNQW4Ix+nMTOzOmnEWWSnAB8H1kp6MNf+ArgMWCxpGvAUcBZARKyTtBhYTzoD7YJ8BhnA+cB8YAjp7LFbcv0aYJGkdtKeS2vhbTIzs27qHjAR8XOqHyMBmNBDm5nAzCr1NuCEKvUXyAFlZmaN4U/ym5lZEQ4YMzMrwgFjZmZFOGDMzKwIB4yZmRXhgDEzsyIcMGZmVoQDxszMinDAmJlZEQ4YMzMrwgFjZmZFOGDMzKwIB4yZmRXhgDEzsyIcMGZmVoQDxszMimjEN1qa1c0p3z2l0V3YI7+48BeN7oJZv/EejJmZFeGAMTOzIhwwZmZWhAPGzMyKcMCYmVkRDhgzMyvCAWNmZkU4YMzMrIgBHTCSJkl6TFK7pIsb3R8zs1eTAftJfkmDgL8F/iewCbhP0tKIWN/YnplZLa7885sb3YU99rlvnt7oLuxTBmzAACcB7RHxBICk64HJgAPGzBpu5jlTGt2FPfaVHyzZo+UVEYW60liSpgCTIuJ/5fsfB94eEZ+rWGY6MD3ffRPwWB27OBJ4to6PV2/evv2bt2//Ve9te0NENFWbMZD3YFSl1iVNI2IuMLc+3elKUltEtDTisevB27d/8/btv/albRvIB/k3AUdX3B8DPN2gvpiZveoM5IC5Dxgnaayk1wKtwNIG98nM7FVjwA6RRcQuSZ8DbgMGAfMiYl2Du1WpIUNzdeTt2795+/Zf+8y2DdiD/GZm1lgDeYjMzMwayAFjZmZFOGD2YZKaJT3S6H70laT5+fNISFohqU+nTko6VdI7+7d3NT3u5yU9KunaHua3SJpd735VI+m5fHuUpCV5+jxJVza2Z1ZC5d/WvmzAHuS3AeVU4Dngnjo/7meB90fEhmozI6INaOtelzQ4InaV7lw1EfE0sM+/8dirg/dg+pGkv5T0S0nLJF0n6YuS3ibpXkkPS7pR0vC8bE/18ZIekrQSuKBO/T5H0mpJD0r6O0lvz/06SNIhktZJOkHSIElXSFqb519Y0ec7Ja2RdJukUa/weKdJWinpfkk/lHRorj8p6a9yfa2kN0tqBj4D/Fnu338v/oSkvnwPeCOwVNJFku6R9EC+fVNe5lRJP8nTl0iaK+l2YGE9+thDv6vu9Ur6QH7OR/b0/HdbfoWkWfl18avO5z2/Bi6XdF9+DXw616+SdEaevlHSvDw9TdJfl93qLv1uznudf59ft7dLGiLp9yXdml+jd+fX1iBJTyg5TNKLkt6d13O3pGPq1e/8mIdI+qf89/+IpLMlfS0/14/k15e6tXm/pMUV90+VdHOeniOpLT8Pf1WxzB8rvU/9XNLsitfwIZLm5cd7QNLkvd6oiPBPP/wALcCDwBDgdcDjwBeBh4H35GW+AXw7T9dSvxx4pHC//xtwM3BAvn8VcC7w18AVpAuGzsjzzgd+BAzO90cAB5D2LJpy7WzSKeEA84EpeXpFfo5GAncBh+T6RcDX8vSTwIV5+rPA1Xn6EuCLDfidPpn7O7Rim98H/ChPnwr8pKKPa4AhDXr9PZdvmztfM8B5wJXAnwB3A8N7e/67rW8F8M08/cfAz/L0dOCrefpA0h7cWNLnzC7P9dXAvXn6+8DEOj4PzcAu4G35/mLgHGA5MC7X3g7ckadvBY4HPkj67NxX8nZtaMDv8MPA31fcHwaMqLi/CDg9T88n7akOBp6q+H3OAc7J0yPy7aD8+3wLcBCwERib511X8Rr+PxVtDwN+1bnevv54iKz/vAu4KSL+AyD/F3EIcFhE3JmXWQD8UNKwGuuLgPcX7vcEYDzpatOQAnILKfTuA14APp+XfR/wvcjDPxGxVdIJwAnAstx+ELC5l8c7GTgO+EVe/rXAyor5P863a4AP7eW29ZdhwAJJ40iXGzqgh+WWdv7+9yH/gxTsp0XEbyR9kN6f/0qVv4vmPH0a8Ba9NP4/DBhHCrAvSDqOdEHZ4XlP9h289Pqplw0R8WCe7uz7O0l/Y53LHJhv7wbeTQrJvwE+BdxJeu3X21rgCkmzSG/6d0v6sKQvAweT/qFbR/qHEPivz/vdCpyudOztA8CX8+yPKF1vcTAwivR7fw3wRLw07HsdL12P8TTgDElfzPcPAl4PPNrXDXLA9J9q1z7ryzrq/cEkAQsiYkaXovR7wKGkN9ODgOd76J+AdRHxjj14vGUR8dEe5u/Mt7vZd16flwL/HBF/kofsVvSw3PN161HtniAN9R1L2tt4pee/UrXfhUh7mbd1X1hpmHcSaQ9pBPAR0p7Vjr3agj23s2J6N3Ak8O8R8bYqy95NGoI9Cvga8CXSnuldZbv4chHxK0njSXuMf5OHWy8AWiJio6RLSH+L3d2Ql9sK3BcROySNJY2g/FFEbJM0P7ft7X1KwIcjot8u+utjMP3n56T/Ig7KY9ofIL3hbKs4bvBx4M6I2N5D/d+B7ZLelesfq0O/lwNTJB0BIGmEpDeQPg38l8C1wKy87O3AZyQN7lyWdAXqJknvyLUDJB3fy+PdC5zSOb4t6WBJx75CH3eQhh0bZRjwL3n6vAb2oy9+TdoTXJh/L315/ivdBpwv6YDc/lhJh+R5K4EvkN6c7ya9wd3dL1uxd34DbJB0FkA+5vLWPG8Vae/mxYh4gTTM/Wka0G9JRwG/jYgfkIan/zDPeja/p/R08saKvOynSGEDaVj3edL7yZG8NBLyS+CN+R8lSEPanW4DLuw8ziPpxL3dpn3lP8T9XkTcJ2kp8BDpj7oN2A5MBb4n6WDSf5OfyE16qn8CmCfpt6RfeOl+r5f0VeB2Sa8BfgfcBOyKiH9Q+uK2eyS9F7ia9J/ww5J+RxovvjIPl8zOQ3yDgW+TduWrPV6HpPOA6yR1DlN8lTTe25ObgSX5oOOFEVHvP/7/Sxoi+9/AHXV+7L0WEY9J+hjwQ+B0UkjuyfNf6WrSkNP9+Y2oAzgzz7ubNBTXLunXpL2YfSFgIP2zNie/1g8ArgceioidkjaSghdSfz9KGq6qtz8ALpf0Iunv8HzSc7uWdDyw6rBdROzOB+rPI72vEBEPSXqA9Hf4BPCLXP8PSZ8FbpX0LOl4WadLSX+7D+ff7ZOkY1N95kvF9CNJh0bEczk07gKmR8T9je6XmVmnivcpkU7ieTwivlXisTxE1r/mSnoQuJ90ppHDxcz2NZ/K71PrSMO/f1fqgbwHY2ZmRXgPxszMinDAmJlZEQ4YMzMrwgFjtg9T1ytSX50/KY+kv+i2XL0vBGr2inyQ32wflj+B/ZOIWNKt/lxEvOwilWb7Eu/BmPUjSecqXWX4IUmLJL1B0vJcWy7p9Xm5+UpXsr1H6Yq+nXspknSlpPWS/gk4omLdK5S+g+YyYIjS1aWvzfOeq2h/udLVd9dKOjvXT83tlyhdSffazk9sm5XiT/Kb9ZN8KZavAKdExLP5UjoLgIURsUDSJ4HZvPTJ91Gki6S+GVgKLCFd+fhNpE91H0m6cOS8yseJiIslfa6Ha2t9CHgb8FbSlZPvk9R5Xa0TSVcOfpr0ye5TSJc4MivCezBm/ee9wJKIeBbS1aZJVxP+hzx/ESlQOv1jRLwYEetJYQLpyr7XRcTuSF8etqeXpnlXRftnSFcG/qM8b3VEbIqIF0nX3Grew3Wb7REHjFn/qeVq2JXzK6/6qx6W6UsfetL9KsMewbCiHDBm/Wc56Ts4Dof/utr0PaQv44J0wcVXGpK6C2hV+rbFUaTvc6nmd51XNK7S/uzcvom0R7S6ynJmxfk/GLN+EhHrJM0E7pS0G3iA9GVb8yR9iXTl4U/0tg7gRtJQ21rSFY7v7GG5uaSr3t4fEZVf63AjaVjuIdKe0Jcj4l8lvbmv22XWVz5N2czMivAQmZmZFeGAMTOzIhwwZmZWhAPGzMyKcMCYmVkRDhgzMyvCAWNmZkX8fzmVVBh39BNCAAAAAElFTkSuQmCC\n",
      "text/plain": [
       "<Figure size 432x288 with 1 Axes>"
      ]
     },
     "metadata": {
      "needs_background": "light"
     },
     "output_type": "display_data"
    }
   ],
   "source": [
    "sns.countplot(x=\"condition\", data=df)"
   ]
  },
  {
   "cell_type": "markdown",
   "id": "fe68e051-4168-4ad9-976a-43a3edcb3112",
   "metadata": {},
   "source": [
    "- 대부분은 good, excellent라 보면 될듯"
   ]
  },
  {
   "cell_type": "code",
   "execution_count": 18,
   "id": "a5344529-c9fc-4917-be5c-fe5f5b6bda72",
   "metadata": {},
   "outputs": [
    {
     "data": {
      "text/plain": [
       "<AxesSubplot:xlabel='condition', ylabel='price'>"
      ]
     },
     "execution_count": 18,
     "metadata": {},
     "output_type": "execute_result"
    },
    {
     "data": {
      "image/png": "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\n",
      "text/plain": [
       "<Figure size 432x288 with 1 Axes>"
      ]
     },
     "metadata": {
      "needs_background": "light"
     },
     "output_type": "display_data"
    }
   ],
   "source": [
    "sns.boxplot(x='condition', y='price', data = df)"
   ]
  },
  {
   "cell_type": "code",
   "execution_count": 21,
   "id": "8058d075-5fae-4cf3-80ce-33a9bc19d934",
   "metadata": {},
   "outputs": [],
   "source": [
    "pd.options.display.float_format = '{:.5f}'.format"
   ]
  },
  {
   "cell_type": "code",
   "execution_count": 22,
   "id": "a34c8b6b-3dcd-4835-9621-4595dbe959fc",
   "metadata": {},
   "outputs": [
    {
     "data": {
      "text/plain": [
       "count       426880.00000\n",
       "mean         75199.03319\n",
       "std       12182282.17360\n",
       "min              0.00000\n",
       "25%           5900.00000\n",
       "50%          13950.00000\n",
       "75%          26485.75000\n",
       "max     3736928711.00000\n",
       "Name: price, dtype: float64"
      ]
     },
     "execution_count": 22,
     "metadata": {},
     "output_type": "execute_result"
    }
   ],
   "source": [
    "df['price'].describe()"
   ]
  },
  {
   "cell_type": "markdown",
   "id": "3799af1f-ca10-461d-9627-2330816bcaec",
   "metadata": {},
   "source": [
    "몇몇 이상치의 영향이 매우 크다. 그냥 지워버려도 좋을 듯."
   ]
  },
  {
   "cell_type": "code",
   "execution_count": 24,
   "id": "a8362acb-c9df-49e3-9910-eb1acfc29b61",
   "metadata": {},
   "outputs": [
    {
     "data": {
      "text/plain": [
       "53"
      ]
     },
     "execution_count": 24,
     "metadata": {},
     "output_type": "execute_result"
    }
   ],
   "source": [
    "(df['price'] > 1000000).sum()"
   ]
  },
  {
   "cell_type": "code",
   "execution_count": 26,
   "id": "126490f8-e050-414d-b11f-92d4556f18f6",
   "metadata": {},
   "outputs": [
    {
     "data": {
      "text/plain": [
       "good         13\n",
       "fair          6\n",
       "like new      5\n",
       "excellent     1\n",
       "Name: condition, dtype: int64"
      ]
     },
     "execution_count": 26,
     "metadata": {},
     "output_type": "execute_result"
    }
   ],
   "source": [
    "df.loc[df['price']>1000000, 'condition'].value_counts()"
   ]
  },
  {
   "cell_type": "code",
   "execution_count": 31,
   "id": "ffca5db3-9abf-41c1-b9c7-18101ad20aa5",
   "metadata": {},
   "outputs": [],
   "source": [
    "df_drop = df.drop(df.loc[df['price']>1000000].index)"
   ]
  },
  {
   "cell_type": "code",
   "execution_count": 32,
   "id": "8e661e62-9b8e-470d-9549-71dfdac1d05f",
   "metadata": {},
   "outputs": [
    {
     "data": {
      "text/plain": [
       "count    426827.00000\n",
       "mean      17474.56462\n",
       "std       16436.95035\n",
       "min           0.00000\n",
       "25%        5900.00000\n",
       "50%       13950.00000\n",
       "75%       26430.00000\n",
       "max     1000000.00000\n",
       "Name: price, dtype: float64"
      ]
     },
     "execution_count": 32,
     "metadata": {},
     "output_type": "execute_result"
    }
   ],
   "source": [
    "df_drop['price'].describe()"
   ]
  },
  {
   "cell_type": "code",
   "execution_count": 33,
   "id": "f47044df-d9ff-4d2b-83d4-49e91ab37d39",
   "metadata": {},
   "outputs": [
    {
     "data": {
      "text/plain": [
       "0.16181470762003813"
      ]
     },
     "execution_count": 33,
     "metadata": {},
     "output_type": "execute_result"
    }
   ],
   "source": [
    "df_drop.corr()['price']['condition_int']"
   ]
  },
  {
   "cell_type": "markdown",
   "id": "5612d2d7-f400-4eae-a99c-61f45e5118c3",
   "metadata": {},
   "source": [
    "바로 상관계수 올라갔다. 숫자를 더 조정해본다면?"
   ]
  },
  {
   "cell_type": "code",
   "execution_count": 36,
   "id": "bbc4500b-8516-4fe9-a3dd-c318a4f2e871",
   "metadata": {},
   "outputs": [
    {
     "data": {
      "text/plain": [
       "<AxesSubplot:xlabel='condition', ylabel='price'>"
      ]
     },
     "execution_count": 36,
     "metadata": {},
     "output_type": "execute_result"
    },
    {
     "data": {
      "image/png": "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\n",
      "text/plain": [
       "<Figure size 432x288 with 1 Axes>"
      ]
     },
     "metadata": {
      "needs_background": "light"
     },
     "output_type": "display_data"
    }
   ],
   "source": [
    "sns.boxplot(x='condition', y='price', data = df_drop)"
   ]
  },
  {
   "cell_type": "code",
   "execution_count": 54,
   "id": "6959203a-8300-47d0-abf4-fdc2d0e4131e",
   "metadata": {},
   "outputs": [
    {
     "data": {
      "text/plain": [
       "0.25361206780136947"
      ]
     },
     "execution_count": 54,
     "metadata": {},
     "output_type": "execute_result"
    }
   ],
   "source": [
    "df_drop['condition_int'] = np.NaN\n",
    "df_drop.loc[df_drop['condition'] == 'new', 'condition_int'] = 2\n",
    "df_drop.loc[df_drop['condition'] == 'like new', 'condition_int'] = 2\n",
    "df_drop.loc[df_drop['condition'] == 'excellent', 'condition_int'] = 1####\n",
    "df_drop.loc[df_drop['condition'] == 'good', 'condition_int'] = 3\n",
    "\n",
    "df_drop.loc[df_drop['condition'] == 'salvage', 'condition_int'] = -1\n",
    "df_drop.loc[df_drop['condition'] == 'fair', 'condition_int'] = -2\n",
    "\n",
    "\n",
    "df_drop.corr()['price']['condition_int']"
   ]
  },
  {
   "cell_type": "markdown",
   "id": "02ad1c4e-8970-4d47-b01d-ad451541d92a",
   "metadata": {},
   "source": [
    "여러번 시도 중 최대한으로 높여봤을 때 상관계수.. 다만 대회에서 쓸때는 순서대로하는게 나을듯?"
   ]
  },
  {
   "cell_type": "markdown",
   "id": "f63b064a-8979-4932-b6ae-d2e648974fb4",
   "metadata": {},
   "source": [
    "이상치의 대부분이 excellent였어서, 이상치들을 잘라내니 오히려 excellent를 높게 설정하면 값이 상관계수가 더 낮게나온다.."
   ]
  },
  {
   "cell_type": "code",
   "execution_count": 62,
   "id": "d50900c8-8e18-46ef-848a-3b64c51d6e6f",
   "metadata": {},
   "outputs": [
    {
     "data": {
      "text/plain": [
       "0.1618147076200347"
      ]
     },
     "execution_count": 62,
     "metadata": {},
     "output_type": "execute_result"
    }
   ],
   "source": [
    "df_drop['condition_int'] = np.NaN\n",
    "df_drop.loc[df_drop['condition'] == 'new', 'condition_int'] = 1\n",
    "df_drop.loc[df_drop['condition'] == 'like new', 'condition_int'] = 1\n",
    "df_drop.loc[df_drop['condition'] == 'excellent', 'condition_int'] = 1####\n",
    "df_drop.loc[df_drop['condition'] == 'good', 'condition_int'] = 1\n",
    "\n",
    "df_drop.loc[df_drop['condition'] == 'salvage', 'condition_int'] = 0\n",
    "df_drop.loc[df_drop['condition'] == 'fair', 'condition_int'] = 0\n",
    "\n",
    "\n",
    "df_drop.corr()['price']['condition_int']"
   ]
  },
  {
   "cell_type": "markdown",
   "id": "a7faf569-7d7a-4555-bbc7-e70672f5925d",
   "metadata": {},
   "source": [
    "- excellent보다 good이 가격이 더 높은 현상.."
   ]
<<<<<<< HEAD
  },
  {
   "cell_type": "code",
   "execution_count": null,
   "id": "f0fb92e5-60a1-469d-90e7-1afc3fa57475",
   "metadata": {},
   "outputs": [],
   "source": []
=======
>>>>>>> a5ade004ebcdda7accf321db70e455bc37d37d70
  }
 ],
 "metadata": {
  "kernelspec": {
   "display_name": "Python 3",
   "language": "python",
   "name": "python3"
  },
  "language_info": {
   "codemirror_mode": {
    "name": "ipython",
    "version": 3
   },
   "file_extension": ".py",
   "mimetype": "text/x-python",
   "name": "python",
   "nbconvert_exporter": "python",
   "pygments_lexer": "ipython3",
   "version": "3.8.8"
  }
 },
 "nbformat": 4,
 "nbformat_minor": 5
}
