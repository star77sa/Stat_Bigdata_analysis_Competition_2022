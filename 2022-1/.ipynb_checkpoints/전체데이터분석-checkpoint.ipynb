{
 "cells": [
  {
   "cell_type": "markdown",
   "id": "a40962ad-5e1a-42a1-b3b9-7dca2a3977d5",
   "metadata": {},
   "source": [
    "\n",
    "전체적인 데이터 EDA.\n",
    "연령별 포커스\n",
    "- 60대 : 코로나에 치명적!\n",
    "- 20대 : 확진자가 많음. 이유는? : 2월에 신천지!\n",
    "\n",
    "\n",
    "모든 월 코로나 확진자 추이\n",
    "2월에 급등! -> 신천지 분석\n",
    "\n",
    "마지막 ---------\n",
    "2월을 제외한 코로나 확진자 추이와 감정소비 , 자살률 데이터 비교. (컨셉 : 감정)\n",
    "뉴스 데이터 감성분석\n",
    ".."
   ]
  },
  {
   "cell_type": "code",
   "execution_count": 77,
   "id": "7d99fd84-ccc8-4e52-9df9-107cecf9cf30",
   "metadata": {},
   "outputs": [],
   "source": [
    "# pip install plotly chart_studio --upgrade"
   ]
  },
  {
   "cell_type": "code",
   "execution_count": 78,
   "id": "d066474f-26cd-449e-9835-47ae06f07521",
   "metadata": {},
   "outputs": [],
   "source": [
    "# pip install cufflinks --upgrade"
   ]
  },
  {
   "cell_type": "code",
   "execution_count": 1,
   "id": "ead9d93d-10e2-427e-9bdb-b92a9b57f988",
   "metadata": {},
   "outputs": [],
   "source": [
    "import os\n",
    "\n",
    "import numpy as np \n",
    "import pandas as pd\n",
    "import os\n",
    "import glob\n",
    "import re\n",
    "import sys\n",
    "from datetime import datetime, timedelta\n",
    "\n",
    "import matplotlib.pyplot as plt\n",
    "import matplotlib.pylab as plt\n",
    "from matplotlib import animation, rc\n",
    "\n",
    "import plotly.express as px\n",
    "import folium\n",
    "from folium import plugins\n",
    "import branca\n",
    "import json\n",
    "\n",
    "from plotly.offline import download_plotlyjs, init_notebook_mode, plot, iplot\n",
    "import plotly\n",
    "import plotly.io as pio\n",
    "import plotly.graph_objects as go\n",
    "from plotly.subplots import make_subplots\n",
    "\n",
    "\n",
    "pio.renderers.default = \"notebook_connected\""
   ]
  },
  {
   "cell_type": "code",
   "execution_count": 2,
   "id": "b1a70569-a692-412e-ab02-d582541e9e82",
   "metadata": {},
   "outputs": [
    {
     "data": {
      "text/html": [
       "        <script type=\"text/javascript\">\n",
       "        window.PlotlyConfig = {MathJaxConfig: 'local'};\n",
       "        if (window.MathJax && window.MathJax.Hub && window.MathJax.Hub.Config) {window.MathJax.Hub.Config({SVG: {font: \"STIX-Web\"}});}\n",
       "        if (typeof require !== 'undefined') {\n",
       "        require.undef(\"plotly\");\n",
       "        requirejs.config({\n",
       "            paths: {\n",
       "                'plotly': ['https://cdn.plot.ly/plotly-2.12.1.min']\n",
       "            }\n",
       "        });\n",
       "        require(['plotly'], function(Plotly) {\n",
       "            window._Plotly = Plotly;\n",
       "        });\n",
       "        }\n",
       "        </script>\n",
       "        "
      ]
     },
     "metadata": {},
     "output_type": "display_data"
    }
   ],
   "source": [
    "import chart_studio.plotly as py\n",
    "import cufflinks as cf\n",
    "cf.go_offline(connected = True)"
   ]
  },
  {
   "cell_type": "code",
   "execution_count": 3,
   "id": "b62a1e3c-ca67-40a0-9181-53897be7efcb",
   "metadata": {},
   "outputs": [],
   "source": [
    "files = glob.glob('dataset/*.csv')\n",
    "data = []\n",
    "for i in files :\n",
    "    i = re.sub(\"dataset/\", \"\", i)\n",
    "    data.append(re.sub(\".csv\",\"\",i))\n",
    "for i in range(len(files)) :\n",
    "    globals()[data[i]] = pd.read_csv(files[i])"
   ]
  },
  {
   "cell_type": "code",
   "execution_count": 4,
   "id": "0ad57f56-7785-4efc-b1a7-45de5ceb54d2",
   "metadata": {},
   "outputs": [],
   "source": [
    "os.chdir('G:/내 드라이브/Github/Stat_Bigdata_analysis_Competition_2022/2022-1/Data')"
   ]
  },
  {
   "cell_type": "code",
   "execution_count": 5,
   "id": "d1fc8806-174e-49ea-b081-7afe2890e715",
   "metadata": {},
   "outputs": [],
   "source": [
    "time = pd.read_csv('Time.csv')\n",
    "timeAge = pd.read_csv('timeAge.csv')\n",
    "timeGender = pd.read_csv('timeGender.csv')\n",
    "timeProvince = pd.read_csv('TimeProvince.csv')\n",
    "\n",
    "PatientInfo = pd.read_csv('PatientInfo.csv')"
   ]
  },
  {
   "cell_type": "markdown",
   "id": "63ca3788-0819-47df-b322-868b365c6e4b",
   "metadata": {},
   "source": [
    "---"
   ]
  },
  {
   "cell_type": "markdown",
   "id": "dcb0843e-a561-4503-b022-f5b4cf1f9255",
   "metadata": {},
   "source": [
    "20대 link : https://dacon.io/competitions/official/235590/codeshare/900?page=1&dtype=vote"
   ]
  },
  {
   "cell_type": "code",
   "execution_count": 10,
   "id": "cb0c8ae1-fc3c-4ff9-837d-07dd845c8731",
   "metadata": {},
   "outputs": [],
   "source": [
    "patientcount = PatientInfo.groupby('age').count().patient_id"
   ]
  },
  {
   "cell_type": "code",
   "execution_count": 11,
   "id": "244f570a-dfbe-4c7a-afc6-16d8e0de9d23",
   "metadata": {},
   "outputs": [
    {
     "data": {
      "text/plain": [
       "<AxesSubplot:xlabel='age'>"
      ]
     },
     "execution_count": 11,
     "metadata": {},
     "output_type": "execute_result"
    },
    {
     "data": {
      "image/png": "[encoded data removed]",
      "text/plain": [
       "<Figure size 432x288 with 1 Axes>"
      ]
     },
     "metadata": {
      "needs_background": "light"
     },
     "output_type": "display_data"
    }
   ],
   "source": [
    "patientcount.plot(kind='bar')"
   ]
  },
  {
   "cell_type": "markdown",
   "id": "c523a00f-9eae-4ffc-b88b-581fdc16275a",
   "metadata": {},
   "source": [
    "확진자가 20대가 가장 많은 것을 확인 할 수 있다."
   ]
  },
  {
   "cell_type": "markdown",
   "id": "17c38d01-e85d-488b-a1a1-6f7aa47474c9",
   "metadata": {},
   "source": [
    "상대적으로 건강하다고 여겨지는 20대가 COVID-19에 면역력이 뛰어날 것이라는 생각에 배치됨."
   ]
  },
  {
   "cell_type": "code",
   "execution_count": 12,
   "id": "cd7dfa74-4a12-4523-8226-18c138bacb97",
   "metadata": {},
   "outputs": [],
   "source": [
    "twtinfo = PatientInfo[PatientInfo.age == '20s']"
   ]
  },
  {
   "cell_type": "code",
   "execution_count": 15,
   "id": "175d3f17-3f7f-4c0d-8d71-65e559cf632c",
   "metadata": {},
   "outputs": [],
   "source": [
    "twtinforeg = pd.DataFrame(twtinfo.groupby('province').count().patient_id)\n",
    "twtinforeg[\"CTP_ENG_NM\"] = list(twtinforeg.index) "
   ]
  },
  {
   "cell_type": "code",
   "execution_count": 18,
   "id": "a12570cb-7817-4307-9ff3-029caf16e5ce",
   "metadata": {},
   "outputs": [
    {
     "data": {
      "text/plain": [
       "<AxesSubplot:xlabel='province'>"
      ]
     },
     "execution_count": 18,
     "metadata": {},
     "output_type": "execute_result"
    },
    {
     "data": {
      "image/png": "[encoded data removed]",
      "text/plain": [
       "<Figure size 432x288 with 1 Axes>"
      ]
     },
     "metadata": {
      "needs_background": "light"
     },
     "output_type": "display_data"
    }
   ],
   "source": [
    "twtinforeg.plot(kind='bar')"
   ]
  },
  {
   "cell_type": "markdown",
   "id": "679cb600-30a5-48cc-84d6-6d334695f78c",
   "metadata": {},
   "source": [
    "경상북도에 20대 확진자가 매우 많다."
   ]
  },
  {
   "cell_type": "code",
   "execution_count": null,
   "id": "8f4d7018-2201-48ce-bfce-7825bddb5385",
   "metadata": {},
   "outputs": [],
   "source": []
  }
 ],
 "metadata": {
  "kernelspec": {
   "display_name": "Python 3",
   "language": "python",
   "name": "python3"
  },
  "language_info": {
   "codemirror_mode": {
    "name": "ipython",
    "version": 3
   },
   "file_extension": ".py",
   "mimetype": "text/x-python",
   "name": "python",
   "nbconvert_exporter": "python",
   "pygments_lexer": "ipython3",
   "version": "3.8.8"
  }
 },
 "nbformat": 4,
 "nbformat_minor": 5
}
